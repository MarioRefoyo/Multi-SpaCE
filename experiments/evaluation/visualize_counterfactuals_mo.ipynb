{
 "cells": [
  {
   "cell_type": "code",
   "execution_count": 1,
   "metadata": {
    "ExecuteTime": {
     "end_time": "2024-09-30T17:45:10.685052900Z",
     "start_time": "2024-09-30T17:45:10.648073900Z"
    }
   },
   "outputs": [
    {
     "name": "stdout",
     "output_type": "stream",
     "text": [
      "D:\\Users\\mrefoyo\\Proyectos\\Sub-SpaCE_plus\n"
     ]
    }
   ],
   "source": [
    "cd ../.."
   ]
  },
  {
   "cell_type": "code",
   "execution_count": 2,
   "metadata": {
    "ExecuteTime": {
     "end_time": "2024-09-30T17:45:28.392593500Z",
     "start_time": "2024-09-30T17:45:11.145737600Z"
    }
   },
   "outputs": [
    {
     "name": "stdout",
     "output_type": "stream",
     "text": [
      "2.13.0\n"
     ]
    }
   ],
   "source": [
    "import os\n",
    "import pickle\n",
    "import copy\n",
    "import numpy as np\n",
    "import pandas as pd\n",
    "import matplotlib.pyplot as plt\n",
    "import matplotlib.gridspec as gridspec\n",
    "import tensorflow as tf\n",
    "\n",
    "from experiments.evaluation.evaluation_utils import load_dataset_for_eval, calculate_metrics_for_dataset\n",
    "\n",
    "print(tf.__version__)"
   ]
  },
  {
   "cell_type": "code",
   "execution_count": 18,
   "metadata": {
    "ExecuteTime": {
     "end_time": "2024-09-30T18:19:01.016655900Z",
     "start_time": "2024-09-30T18:19:00.962344100Z"
    }
   },
   "outputs": [],
   "source": [
    "# DATASETS = ['CBF', 'chinatown', 'coffee', 'gunpoint', 'ECG200']\n",
    "DATASETS = [\"BasicMotions\", \"NATOPS\"]\n",
    "MO_UTILITY = np.array([0.0, 0.2*1, 0.8*1, 0.0])\n",
    "model_to_explain = \"cls_basic_train\"\n",
    "ae_name = \"ae_basic_train\"\n",
    "methods = {\n",
    "    # Comparison between single objective and multi objective ordered by same weights\n",
    "    \"abd6be72d2e5c0967af2134fe463ff2ad9250524\": \"subspace_gknn_cch_figradcam\",\n",
    "    \"7dbaa6cfdb5cd23ba93e6495b43a5f2874fd79c0\": \"multisubspace_gknn_cch_75_25\",\n",
    "    \"b4a4daf2c1791e984fb1ec07dfe589ddf9caf4bb\": \"multisubspace_gknn_cch_55_100\",\n",
    "}\n",
    "\n"
   ]
  },
  {
   "cell_type": "code",
   "execution_count": 18,
   "metadata": {
    "ExecuteTime": {
     "end_time": "2024-09-30T18:19:01.319872400Z",
     "start_time": "2024-09-30T18:19:01.261566700Z"
    }
   },
   "outputs": [],
   "source": []
  },
  {
   "cell_type": "markdown",
   "metadata": {},
   "source": [
    "# Get results"
   ]
  },
  {
   "cell_type": "code",
   "execution_count": 19,
   "metadata": {
    "ExecuteTime": {
     "end_time": "2024-09-30T18:26:21.933316800Z",
     "start_time": "2024-09-30T18:19:01.843717800Z"
    }
   },
   "outputs": [
    {
     "name": "stdout",
     "output_type": "stream",
     "text": [
      "Calculating metrics for BasicMotions\n",
      "7dbaa6cfdb5cd23ba93e6495b43a5f2874fd79c0\n"
     ]
    },
    {
     "name": "stderr",
     "output_type": "stream",
     "text": [
      "100%|██████████| 40/40 [00:43<00:00,  1.09s/it]\n"
     ]
    },
    {
     "name": "stdout",
     "output_type": "stream",
     "text": [
      "abd6be72d2e5c0967af2134fe463ff2ad9250524\n"
     ]
    },
    {
     "name": "stderr",
     "output_type": "stream",
     "text": [
      "100%|██████████| 40/40 [00:22<00:00,  1.76it/s]\n"
     ]
    },
    {
     "name": "stdout",
     "output_type": "stream",
     "text": [
      "b4a4daf2c1791e984fb1ec07dfe589ddf9caf4bb\n"
     ]
    },
    {
     "name": "stderr",
     "output_type": "stream",
     "text": [
      "100%|██████████| 40/40 [00:44<00:00,  1.12s/it]\n"
     ]
    },
    {
     "name": "stdout",
     "output_type": "stream",
     "text": [
      "Calculating metrics for NATOPS\n",
      "7dbaa6cfdb5cd23ba93e6495b43a5f2874fd79c0\n"
     ]
    },
    {
     "name": "stderr",
     "output_type": "stream",
     "text": [
      "100%|██████████| 100/100 [01:58<00:00,  1.18s/it]\n"
     ]
    },
    {
     "name": "stdout",
     "output_type": "stream",
     "text": [
      "abd6be72d2e5c0967af2134fe463ff2ad9250524\n"
     ]
    },
    {
     "name": "stderr",
     "output_type": "stream",
     "text": [
      "100%|██████████| 100/100 [00:57<00:00,  1.75it/s]\n"
     ]
    },
    {
     "name": "stdout",
     "output_type": "stream",
     "text": [
      "b4a4daf2c1791e984fb1ec07dfe589ddf9caf4bb\n"
     ]
    },
    {
     "name": "stderr",
     "output_type": "stream",
     "text": [
      "100%|██████████| 100/100 [02:01<00:00,  1.21s/it]\n"
     ]
    }
   ],
   "source": [
    "# Data and aux data dict\n",
    "data_dict = {}\n",
    "models_dict = {}\n",
    "outlier_calculators_dict = {}\n",
    "possible_nuns_dict = {}\n",
    "desired_classes_dict = {}\n",
    "original_classes_dict = {}\n",
    "\n",
    "# Results dicts\n",
    "mean_results_dict = {}\n",
    "methods_cfs_dict = {}\n",
    "results_all_datasets_df = pd.DataFrame()\n",
    "common_test_indexes_dict = {}\n",
    "\n",
    "# Iterate through datasets\n",
    "for dataset in DATASETS:\n",
    "    print(f'Calculating metrics for {dataset}')\n",
    "    # Load all info needed to get the counterfactual\n",
    "    data_tuple, original_classes, model, outlier_calculator, possible_nuns, desired_classes = load_dataset_for_eval(dataset, model_to_explain, ae_name)\n",
    "    data_dict[dataset] = data_tuple\n",
    "    models_dict[dataset] = model\n",
    "    outlier_calculators_dict[dataset] = outlier_calculator\n",
    "    possible_nuns_dict[dataset] = possible_nuns\n",
    "    desired_classes_dict[dataset] = desired_classes\n",
    "    original_classes_dict[dataset] = original_classes\n",
    "\n",
    "    # Get the metrics for all methods\n",
    "    dataset_mean_std_df, dataset_results_df, method_cfs_dataset, common_test_indexes = calculate_metrics_for_dataset(\n",
    "        dataset, methods, model_to_explain,\n",
    "        data_tuple, original_classes, model, outlier_calculator, possible_nuns,\n",
    "        mo_weights=MO_UTILITY\n",
    "    )\n",
    "    mean_results_dict[dataset] = dataset_mean_std_df\n",
    "    methods_cfs_dict[dataset] = method_cfs_dataset\n",
    "    results_all_datasets_df = pd.concat([results_all_datasets_df, dataset_results_df])\n",
    "    common_test_indexes_dict[dataset] = common_test_indexes\n",
    "\n",
    "    # Store results\n",
    "    dataset_mean_std_df.to_csv(f'./experiments/evaluation/results_mean_metrics_{dataset}.csv', sep=\";\", index=False)\n",
    "\n",
    "# Store all results\n",
    "results_all_datasets_df.to_csv(f'./experiments/evaluation/results_all.csv', sep=\";\", index=False)\n"
   ]
  },
  {
   "cell_type": "code",
   "execution_count": 20,
   "metadata": {
    "ExecuteTime": {
     "end_time": "2024-09-30T18:26:22.055095800Z",
     "start_time": "2024-09-30T18:26:21.931249100Z"
    }
   },
   "outputs": [
    {
     "name": "stdout",
     "output_type": "stream",
     "text": [
      "BasicMotions\n"
     ]
    },
    {
     "data": {
      "text/plain": "                          method            ii         nchanges     sparsity  \\\n0   multisubspace_gknn_cch_75_25  19.5 ± 11.69  184.92 ± 113.18  0.31 ± 0.19   \n1    subspace_gknn_cch_figradcam  19.5 ± 11.69  279.55 ± 147.62  0.47 ± 0.25   \n2  multisubspace_gknn_cch_55_100  19.5 ± 11.69    153.6 ± 96.66  0.26 ± 0.16   \n\n                 L1             L2        proba      valid nuns_valid  \\\n0   712.97 ± 779.03  64.01 ± 51.87  0.46 ± 0.09  1.0 ± 0.0  1.0 ± 0.0   \n1  1003.23 ± 992.97  75.73 ± 58.38  0.71 ± 0.14  1.0 ± 0.0  1.0 ± 0.0   \n2   651.23 ± 682.21  63.13 ± 49.78  0.44 ± 0.08  1.0 ± 0.0  1.0 ± 0.0   \n\n  outlier_score increase_outlier_score  subsequences subsequences %  \\\n0    0.3 ± 0.19            0.01 ± 0.02  10.15 ± 3.56    0.03 ± 0.01   \n1   0.23 ± 0.15            0.01 ± 0.02   9.15 ± 4.67    0.03 ± 0.02   \n2    0.32 ± 0.2            0.01 ± 0.01   8.82 ± 3.34    0.03 ± 0.01   \n\n          times  \n0  27.13 ± 5.58  \n1  24.82 ± 8.71  \n2  42.16 ± 6.52  ",
      "text/html": "<div>\n<style scoped>\n    .dataframe tbody tr th:only-of-type {\n        vertical-align: middle;\n    }\n\n    .dataframe tbody tr th {\n        vertical-align: top;\n    }\n\n    .dataframe thead th {\n        text-align: right;\n    }\n</style>\n<table border=\"1\" class=\"dataframe\">\n  <thead>\n    <tr style=\"text-align: right;\">\n      <th></th>\n      <th>method</th>\n      <th>ii</th>\n      <th>nchanges</th>\n      <th>sparsity</th>\n      <th>L1</th>\n      <th>L2</th>\n      <th>proba</th>\n      <th>valid</th>\n      <th>nuns_valid</th>\n      <th>outlier_score</th>\n      <th>increase_outlier_score</th>\n      <th>subsequences</th>\n      <th>subsequences %</th>\n      <th>times</th>\n    </tr>\n  </thead>\n  <tbody>\n    <tr>\n      <th>0</th>\n      <td>multisubspace_gknn_cch_75_25</td>\n      <td>19.5 ± 11.69</td>\n      <td>184.92 ± 113.18</td>\n      <td>0.31 ± 0.19</td>\n      <td>712.97 ± 779.03</td>\n      <td>64.01 ± 51.87</td>\n      <td>0.46 ± 0.09</td>\n      <td>1.0 ± 0.0</td>\n      <td>1.0 ± 0.0</td>\n      <td>0.3 ± 0.19</td>\n      <td>0.01 ± 0.02</td>\n      <td>10.15 ± 3.56</td>\n      <td>0.03 ± 0.01</td>\n      <td>27.13 ± 5.58</td>\n    </tr>\n    <tr>\n      <th>1</th>\n      <td>subspace_gknn_cch_figradcam</td>\n      <td>19.5 ± 11.69</td>\n      <td>279.55 ± 147.62</td>\n      <td>0.47 ± 0.25</td>\n      <td>1003.23 ± 992.97</td>\n      <td>75.73 ± 58.38</td>\n      <td>0.71 ± 0.14</td>\n      <td>1.0 ± 0.0</td>\n      <td>1.0 ± 0.0</td>\n      <td>0.23 ± 0.15</td>\n      <td>0.01 ± 0.02</td>\n      <td>9.15 ± 4.67</td>\n      <td>0.03 ± 0.02</td>\n      <td>24.82 ± 8.71</td>\n    </tr>\n    <tr>\n      <th>2</th>\n      <td>multisubspace_gknn_cch_55_100</td>\n      <td>19.5 ± 11.69</td>\n      <td>153.6 ± 96.66</td>\n      <td>0.26 ± 0.16</td>\n      <td>651.23 ± 682.21</td>\n      <td>63.13 ± 49.78</td>\n      <td>0.44 ± 0.08</td>\n      <td>1.0 ± 0.0</td>\n      <td>1.0 ± 0.0</td>\n      <td>0.32 ± 0.2</td>\n      <td>0.01 ± 0.01</td>\n      <td>8.82 ± 3.34</td>\n      <td>0.03 ± 0.01</td>\n      <td>42.16 ± 6.52</td>\n    </tr>\n  </tbody>\n</table>\n</div>"
     },
     "metadata": {},
     "output_type": "display_data"
    },
    {
     "name": "stdout",
     "output_type": "stream",
     "text": [
      "NATOPS\n"
     ]
    },
    {
     "data": {
      "text/plain": "                          method             ii         nchanges     sparsity  \\\n0   multisubspace_gknn_cch_75_25  87.18 ± 53.72  250.25 ± 125.67    0.2 ± 0.1   \n1    subspace_gknn_cch_figradcam  87.18 ± 53.72  355.11 ± 145.58  0.29 ± 0.12   \n2  multisubspace_gknn_cch_55_100  87.18 ± 53.72  230.95 ± 111.41  0.19 ± 0.09   \n\n                L1            L2        proba      valid nuns_valid  \\\n0   111.93 ± 93.02   8.87 ± 5.63  0.64 ± 0.15  1.0 ± 0.0  1.0 ± 0.0   \n1  162.04 ± 122.03  10.72 ± 6.46  0.93 ± 0.07  1.0 ± 0.0  1.0 ± 0.0   \n2   109.65 ± 96.03   8.76 ± 5.81  0.67 ± 0.14  1.0 ± 0.0  1.0 ± 0.0   \n\n  outlier_score increase_outlier_score  subsequences subsequences %  \\\n0   0.62 ± 0.21            0.08 ± 0.07  23.05 ± 3.49    0.04 ± 0.01   \n1   0.57 ± 0.18            0.03 ± 0.04  23.84 ± 3.42    0.04 ± 0.01   \n2   0.65 ± 0.23            0.11 ± 0.09  20.52 ± 4.72    0.03 ± 0.01   \n\n          times  \n0  31.04 ± 4.07  \n1  18.74 ± 5.49  \n2   49.9 ± 2.55  ",
      "text/html": "<div>\n<style scoped>\n    .dataframe tbody tr th:only-of-type {\n        vertical-align: middle;\n    }\n\n    .dataframe tbody tr th {\n        vertical-align: top;\n    }\n\n    .dataframe thead th {\n        text-align: right;\n    }\n</style>\n<table border=\"1\" class=\"dataframe\">\n  <thead>\n    <tr style=\"text-align: right;\">\n      <th></th>\n      <th>method</th>\n      <th>ii</th>\n      <th>nchanges</th>\n      <th>sparsity</th>\n      <th>L1</th>\n      <th>L2</th>\n      <th>proba</th>\n      <th>valid</th>\n      <th>nuns_valid</th>\n      <th>outlier_score</th>\n      <th>increase_outlier_score</th>\n      <th>subsequences</th>\n      <th>subsequences %</th>\n      <th>times</th>\n    </tr>\n  </thead>\n  <tbody>\n    <tr>\n      <th>0</th>\n      <td>multisubspace_gknn_cch_75_25</td>\n      <td>87.18 ± 53.72</td>\n      <td>250.25 ± 125.67</td>\n      <td>0.2 ± 0.1</td>\n      <td>111.93 ± 93.02</td>\n      <td>8.87 ± 5.63</td>\n      <td>0.64 ± 0.15</td>\n      <td>1.0 ± 0.0</td>\n      <td>1.0 ± 0.0</td>\n      <td>0.62 ± 0.21</td>\n      <td>0.08 ± 0.07</td>\n      <td>23.05 ± 3.49</td>\n      <td>0.04 ± 0.01</td>\n      <td>31.04 ± 4.07</td>\n    </tr>\n    <tr>\n      <th>1</th>\n      <td>subspace_gknn_cch_figradcam</td>\n      <td>87.18 ± 53.72</td>\n      <td>355.11 ± 145.58</td>\n      <td>0.29 ± 0.12</td>\n      <td>162.04 ± 122.03</td>\n      <td>10.72 ± 6.46</td>\n      <td>0.93 ± 0.07</td>\n      <td>1.0 ± 0.0</td>\n      <td>1.0 ± 0.0</td>\n      <td>0.57 ± 0.18</td>\n      <td>0.03 ± 0.04</td>\n      <td>23.84 ± 3.42</td>\n      <td>0.04 ± 0.01</td>\n      <td>18.74 ± 5.49</td>\n    </tr>\n    <tr>\n      <th>2</th>\n      <td>multisubspace_gknn_cch_55_100</td>\n      <td>87.18 ± 53.72</td>\n      <td>230.95 ± 111.41</td>\n      <td>0.19 ± 0.09</td>\n      <td>109.65 ± 96.03</td>\n      <td>8.76 ± 5.81</td>\n      <td>0.67 ± 0.14</td>\n      <td>1.0 ± 0.0</td>\n      <td>1.0 ± 0.0</td>\n      <td>0.65 ± 0.23</td>\n      <td>0.11 ± 0.09</td>\n      <td>20.52 ± 4.72</td>\n      <td>0.03 ± 0.01</td>\n      <td>49.9 ± 2.55</td>\n    </tr>\n  </tbody>\n</table>\n</div>"
     },
     "metadata": {},
     "output_type": "display_data"
    }
   ],
   "source": [
    "from IPython.display import display\n",
    "for dataset in DATASETS:\n",
    "    print(dataset)\n",
    "    display(mean_results_dict[dataset])"
   ]
  },
  {
   "cell_type": "code",
   "execution_count": 21,
   "outputs": [
    {
     "name": "stdout",
     "output_type": "stream",
     "text": [
      "BasicMotions\n"
     ]
    },
    {
     "data": {
      "text/plain": "                                      nchanges             L2      valid  \\\nmethod                                                                     \nmultisubspace_gknn_cch_55_100    153.6 ± 96.66  63.13 ± 49.78  1.0 ± 0.0   \nmultisubspace_gknn_cch_75_25   184.92 ± 113.18  64.01 ± 51.87  1.0 ± 0.0   \nsubspace_gknn_cch_figradcam    279.55 ± 147.62  75.73 ± 58.38  1.0 ± 0.0   \n\n                              increase_outlier_score  subsequences  \\\nmethod                                                               \nmultisubspace_gknn_cch_55_100            0.01 ± 0.01   8.82 ± 3.34   \nmultisubspace_gknn_cch_75_25             0.01 ± 0.02  10.15 ± 3.56   \nsubspace_gknn_cch_figradcam              0.01 ± 0.02   9.15 ± 4.67   \n\n                                      times  \nmethod                                       \nmultisubspace_gknn_cch_55_100  42.16 ± 6.52  \nmultisubspace_gknn_cch_75_25   27.13 ± 5.58  \nsubspace_gknn_cch_figradcam    24.82 ± 8.71  ",
      "text/html": "<div>\n<style scoped>\n    .dataframe tbody tr th:only-of-type {\n        vertical-align: middle;\n    }\n\n    .dataframe tbody tr th {\n        vertical-align: top;\n    }\n\n    .dataframe thead th {\n        text-align: right;\n    }\n</style>\n<table border=\"1\" class=\"dataframe\">\n  <thead>\n    <tr style=\"text-align: right;\">\n      <th></th>\n      <th>nchanges</th>\n      <th>L2</th>\n      <th>valid</th>\n      <th>increase_outlier_score</th>\n      <th>subsequences</th>\n      <th>times</th>\n    </tr>\n    <tr>\n      <th>method</th>\n      <th></th>\n      <th></th>\n      <th></th>\n      <th></th>\n      <th></th>\n      <th></th>\n    </tr>\n  </thead>\n  <tbody>\n    <tr>\n      <th>multisubspace_gknn_cch_55_100</th>\n      <td>153.6 ± 96.66</td>\n      <td>63.13 ± 49.78</td>\n      <td>1.0 ± 0.0</td>\n      <td>0.01 ± 0.01</td>\n      <td>8.82 ± 3.34</td>\n      <td>42.16 ± 6.52</td>\n    </tr>\n    <tr>\n      <th>multisubspace_gknn_cch_75_25</th>\n      <td>184.92 ± 113.18</td>\n      <td>64.01 ± 51.87</td>\n      <td>1.0 ± 0.0</td>\n      <td>0.01 ± 0.02</td>\n      <td>10.15 ± 3.56</td>\n      <td>27.13 ± 5.58</td>\n    </tr>\n    <tr>\n      <th>subspace_gknn_cch_figradcam</th>\n      <td>279.55 ± 147.62</td>\n      <td>75.73 ± 58.38</td>\n      <td>1.0 ± 0.0</td>\n      <td>0.01 ± 0.02</td>\n      <td>9.15 ± 4.67</td>\n      <td>24.82 ± 8.71</td>\n    </tr>\n  </tbody>\n</table>\n</div>"
     },
     "metadata": {},
     "output_type": "display_data"
    },
    {
     "name": "stdout",
     "output_type": "stream",
     "text": [
      "NATOPS\n"
     ]
    },
    {
     "data": {
      "text/plain": "                                      nchanges            L2      valid  \\\nmethod                                                                    \nmultisubspace_gknn_cch_55_100  230.95 ± 111.41   8.76 ± 5.81  1.0 ± 0.0   \nmultisubspace_gknn_cch_75_25   250.25 ± 125.67   8.87 ± 5.63  1.0 ± 0.0   \nsubspace_gknn_cch_figradcam    355.11 ± 145.58  10.72 ± 6.46  1.0 ± 0.0   \n\n                              increase_outlier_score  subsequences  \\\nmethod                                                               \nmultisubspace_gknn_cch_55_100            0.11 ± 0.09  20.52 ± 4.72   \nmultisubspace_gknn_cch_75_25             0.08 ± 0.07  23.05 ± 3.49   \nsubspace_gknn_cch_figradcam              0.03 ± 0.04  23.84 ± 3.42   \n\n                                      times  \nmethod                                       \nmultisubspace_gknn_cch_55_100   49.9 ± 2.55  \nmultisubspace_gknn_cch_75_25   31.04 ± 4.07  \nsubspace_gknn_cch_figradcam    18.74 ± 5.49  ",
      "text/html": "<div>\n<style scoped>\n    .dataframe tbody tr th:only-of-type {\n        vertical-align: middle;\n    }\n\n    .dataframe tbody tr th {\n        vertical-align: top;\n    }\n\n    .dataframe thead th {\n        text-align: right;\n    }\n</style>\n<table border=\"1\" class=\"dataframe\">\n  <thead>\n    <tr style=\"text-align: right;\">\n      <th></th>\n      <th>nchanges</th>\n      <th>L2</th>\n      <th>valid</th>\n      <th>increase_outlier_score</th>\n      <th>subsequences</th>\n      <th>times</th>\n    </tr>\n    <tr>\n      <th>method</th>\n      <th></th>\n      <th></th>\n      <th></th>\n      <th></th>\n      <th></th>\n      <th></th>\n    </tr>\n  </thead>\n  <tbody>\n    <tr>\n      <th>multisubspace_gknn_cch_55_100</th>\n      <td>230.95 ± 111.41</td>\n      <td>8.76 ± 5.81</td>\n      <td>1.0 ± 0.0</td>\n      <td>0.11 ± 0.09</td>\n      <td>20.52 ± 4.72</td>\n      <td>49.9 ± 2.55</td>\n    </tr>\n    <tr>\n      <th>multisubspace_gknn_cch_75_25</th>\n      <td>250.25 ± 125.67</td>\n      <td>8.87 ± 5.63</td>\n      <td>1.0 ± 0.0</td>\n      <td>0.08 ± 0.07</td>\n      <td>23.05 ± 3.49</td>\n      <td>31.04 ± 4.07</td>\n    </tr>\n    <tr>\n      <th>subspace_gknn_cch_figradcam</th>\n      <td>355.11 ± 145.58</td>\n      <td>10.72 ± 6.46</td>\n      <td>1.0 ± 0.0</td>\n      <td>0.03 ± 0.04</td>\n      <td>23.84 ± 3.42</td>\n      <td>18.74 ± 5.49</td>\n    </tr>\n  </tbody>\n</table>\n</div>"
     },
     "metadata": {},
     "output_type": "display_data"
    }
   ],
   "source": [
    "columns = [\"nchanges\", \"L2\", \"valid\", \"increase_outlier_score\", \"subsequences\", \"times\"]\n",
    "for dataset in DATASETS:\n",
    "    print(dataset)\n",
    "    display(mean_results_dict[dataset].set_index(\"method\").sort_index()[columns])"
   ],
   "metadata": {
    "collapsed": false,
    "ExecuteTime": {
     "end_time": "2024-09-30T18:26:22.247010600Z",
     "start_time": "2024-09-30T18:26:22.008723200Z"
    }
   }
  },
  {
   "cell_type": "code",
   "execution_count": 23,
   "metadata": {
    "collapsed": false,
    "ExecuteTime": {
     "end_time": "2024-09-30T19:06:37.910321900Z",
     "start_time": "2024-09-30T19:06:37.894757500Z"
    }
   },
   "outputs": [],
   "source": []
  },
  {
   "cell_type": "code",
   "execution_count": 6,
   "outputs": [],
   "source": [],
   "metadata": {
    "collapsed": false,
    "ExecuteTime": {
     "end_time": "2024-09-30T17:46:12.290205800Z",
     "start_time": "2024-09-30T17:46:12.162839400Z"
    }
   }
  },
  {
   "cell_type": "markdown",
   "metadata": {},
   "source": [
    "# Counterfactual visualization"
   ]
  },
  {
   "cell_type": "code",
   "execution_count": 10,
   "metadata": {
    "ExecuteTime": {
     "end_time": "2024-09-16T11:33:45.989946Z",
     "start_time": "2024-09-16T11:33:45.958746400Z"
    }
   },
   "outputs": [],
   "source": [
    "import math\n",
    "def plot_comp_cfs(x_orig, possible_nuns, x_cfs_dict):\n",
    "    \n",
    "    # Calculate auxiliary variables\n",
    "    method_names = list(x_cfs_dict.keys())\n",
    "    x_cfs = list(x_cfs_dict.values())\n",
    "    length = x_orig.shape[0]\n",
    "    n_channels = x_orig.shape[1]\n",
    "\n",
    "    # Define outer grid\n",
    "    fig = plt.figure(figsize=(22, 16))\n",
    "    grid_columns = 2\n",
    "    grid_rows = math.ceil(len(x_cfs) / grid_columns)\n",
    "    outer_grid = gridspec.GridSpec(grid_rows, grid_columns, wspace=0.1, hspace=0.3)\n",
    "\n",
    "    # Iterate through outer grid plots\n",
    "    for m, outer in enumerate(outer_grid):\n",
    "        try:\n",
    "            # Get change mask \n",
    "            x_cf = x_cfs[m]\n",
    "            method_name = method_names[m]\n",
    "            # Get nuns used by the method depending on the name\n",
    "            if \"gknn\" in method_name:\n",
    "                nun_example = possible_nuns[\"gknn\"]\n",
    "            elif \"iknn\" in method_name:\n",
    "                nun_example = possible_nuns[\"iknn\"]\n",
    "            else:\n",
    "                raise ValueError('Not detected NUN finding procedure in name. Method name must contain \"gknn\" or \"iknn\"')\n",
    "            found_counterfactual_mask = (x_orig != x_cf.reshape(1, length, n_channels)).astype(int)\n",
    "            diff_mask = np.diff(found_counterfactual_mask, prepend=0, append=0, axis=1)\n",
    "        except IndexError:\n",
    "            break\n",
    "    \n",
    "        # Create inner grid\n",
    "        inner_grid = gridspec.GridSpecFromSubplotSpec(n_channels, 1, wspace=0.2, hspace=0.2, subplot_spec=outer)\n",
    "        sub_channel_axs = []\n",
    "        for i in range(n_channels):\n",
    "            ax = plt.Subplot(fig, inner_grid[i])\n",
    "            ax.plot(nun_example.reshape(1, length, n_channels)[:, :, i].flatten(), color='grey')\n",
    "            ax.plot(x_cf.reshape(1, length, n_channels)[:, :, i].flatten(), color='red')\n",
    "            ax.plot(x_orig.reshape(1, length, n_channels)[:, :, i].flatten(), color=\"#332288\")\n",
    "            # Set title if first channel\n",
    "            if i == 0:\n",
    "                ax.set_title(method_name)\n",
    "            \n",
    "            # Add fill to changes\n",
    "            starts = np.clip( np.where(diff_mask[0, :, i].flatten() == 1)[0] - 1 , 0, length)\n",
    "            ends = np.where(diff_mask[0, :, i].flatten() == -1)[0]\n",
    "            # Iterate over the mask segments and fill them with red color\n",
    "            for i in range(0, len(starts)):\n",
    "                start_idx = starts[i]\n",
    "                end_idx = ends[i]\n",
    "                # plt.fill_between(comp_df.iloc[start_idx:end_idx].index, comp_df.min(), comp_df.max(), color='red', alpha=0.7)\n",
    "                ax.axvspan(start_idx, end_idx, alpha=0.2, color='red')\n",
    "            \n",
    "            # Add ax to list of subplots\n",
    "            fig.add_subplot(ax)\n",
    "            sub_channel_axs.append(ax)\n",
    "\n",
    "    # Plot figure\n",
    "    fig.legend(\n",
    "        sub_channel_axs,     # The line objects\n",
    "        labels=['NUN', 'x_cf', 'x_orig'],   # The labels for each line\n",
    "        loc='center',\n",
    "        prop={'size': 12}\n",
    "    )\n",
    "    plt.show()\n",
    "\n"
   ]
  },
  {
   "cell_type": "code",
   "execution_count": 11,
   "outputs": [
    {
     "data": {
      "text/plain": "     ii  nchanges  sparsity          L1         L2     proba  valid  \\\n0     3     630.0  0.666667  849.672028  40.468249  0.994502   True   \n1    13     945.0  1.000000  701.469408  29.498525  0.986486   True   \n2    14     630.0  0.666667  534.941475  27.801814  0.981622   True   \n3    15     945.0  1.000000  753.060521  31.011630  0.989560   True   \n4    19     630.0  0.666667  546.554781  26.437987  0.989558   True   \n..  ...       ...       ...         ...        ...       ...    ...   \n95  300     158.0  0.167196  144.647351  12.668673  0.772654   True   \n96  302      84.0  0.088889   82.245441   9.598369  0.449715   True   \n97  303      43.0  0.045503   38.132580   6.282867  0.620453   True   \n98  314     570.0  0.603175  556.326838  27.585234  0.814680   True   \n99  318      90.0  0.095238   64.865204   8.459335  0.546384   True   \n\n   nuns_valid  outlier_score  increase_outlier_score  subsequences  \\\n0         NaN       0.357573                0.000000           1.0   \n1         NaN       0.394286                0.000000           1.0   \n2         NaN       0.429190                0.000000           1.0   \n3         NaN       0.375455                0.000000           1.0   \n4         NaN       0.478830                0.000000           1.0   \n..        ...            ...                     ...           ...   \n95        1.0       0.487605                0.041953           3.0   \n96        1.0       0.591355                0.123180           5.0   \n97        1.0       0.525460                0.036501           2.0   \n98        1.0       0.667473                0.013069           6.0   \n99        1.0       0.590559                0.025008           3.0   \n\n    subsequences %        times                   method  order  \\\n0         0.002116  1291.526145                    comte      1   \n1         0.002116  1301.269161                    comte      1   \n2         0.002116  1301.799412                    comte      1   \n3         0.002116  1309.426037                    comte      1   \n4         0.002116  1316.859315                    comte      1   \n..             ...          ...                      ...    ...   \n95        0.006349    48.047095  subspace_gknn_cch_mut07      2   \n96        0.010582    44.687890  subspace_gknn_cch_mut07      2   \n97        0.004233    43.703472  subspace_gknn_cch_mut07      2   \n98        0.012698    83.094417  subspace_gknn_cch_mut07      2   \n99        0.006349    39.797325  subspace_gknn_cch_mut07      2   \n\n                dataset  \n0   UWaveGestureLibrary  \n1   UWaveGestureLibrary  \n2   UWaveGestureLibrary  \n3   UWaveGestureLibrary  \n4   UWaveGestureLibrary  \n..                  ...  \n95  UWaveGestureLibrary  \n96  UWaveGestureLibrary  \n97  UWaveGestureLibrary  \n98  UWaveGestureLibrary  \n99  UWaveGestureLibrary  \n\n[200 rows x 16 columns]",
      "text/html": "<div>\n<style scoped>\n    .dataframe tbody tr th:only-of-type {\n        vertical-align: middle;\n    }\n\n    .dataframe tbody tr th {\n        vertical-align: top;\n    }\n\n    .dataframe thead th {\n        text-align: right;\n    }\n</style>\n<table border=\"1\" class=\"dataframe\">\n  <thead>\n    <tr style=\"text-align: right;\">\n      <th></th>\n      <th>ii</th>\n      <th>nchanges</th>\n      <th>sparsity</th>\n      <th>L1</th>\n      <th>L2</th>\n      <th>proba</th>\n      <th>valid</th>\n      <th>nuns_valid</th>\n      <th>outlier_score</th>\n      <th>increase_outlier_score</th>\n      <th>subsequences</th>\n      <th>subsequences %</th>\n      <th>times</th>\n      <th>method</th>\n      <th>order</th>\n      <th>dataset</th>\n    </tr>\n  </thead>\n  <tbody>\n    <tr>\n      <th>0</th>\n      <td>3</td>\n      <td>630.0</td>\n      <td>0.666667</td>\n      <td>849.672028</td>\n      <td>40.468249</td>\n      <td>0.994502</td>\n      <td>True</td>\n      <td>NaN</td>\n      <td>0.357573</td>\n      <td>0.000000</td>\n      <td>1.0</td>\n      <td>0.002116</td>\n      <td>1291.526145</td>\n      <td>comte</td>\n      <td>1</td>\n      <td>UWaveGestureLibrary</td>\n    </tr>\n    <tr>\n      <th>1</th>\n      <td>13</td>\n      <td>945.0</td>\n      <td>1.000000</td>\n      <td>701.469408</td>\n      <td>29.498525</td>\n      <td>0.986486</td>\n      <td>True</td>\n      <td>NaN</td>\n      <td>0.394286</td>\n      <td>0.000000</td>\n      <td>1.0</td>\n      <td>0.002116</td>\n      <td>1301.269161</td>\n      <td>comte</td>\n      <td>1</td>\n      <td>UWaveGestureLibrary</td>\n    </tr>\n    <tr>\n      <th>2</th>\n      <td>14</td>\n      <td>630.0</td>\n      <td>0.666667</td>\n      <td>534.941475</td>\n      <td>27.801814</td>\n      <td>0.981622</td>\n      <td>True</td>\n      <td>NaN</td>\n      <td>0.429190</td>\n      <td>0.000000</td>\n      <td>1.0</td>\n      <td>0.002116</td>\n      <td>1301.799412</td>\n      <td>comte</td>\n      <td>1</td>\n      <td>UWaveGestureLibrary</td>\n    </tr>\n    <tr>\n      <th>3</th>\n      <td>15</td>\n      <td>945.0</td>\n      <td>1.000000</td>\n      <td>753.060521</td>\n      <td>31.011630</td>\n      <td>0.989560</td>\n      <td>True</td>\n      <td>NaN</td>\n      <td>0.375455</td>\n      <td>0.000000</td>\n      <td>1.0</td>\n      <td>0.002116</td>\n      <td>1309.426037</td>\n      <td>comte</td>\n      <td>1</td>\n      <td>UWaveGestureLibrary</td>\n    </tr>\n    <tr>\n      <th>4</th>\n      <td>19</td>\n      <td>630.0</td>\n      <td>0.666667</td>\n      <td>546.554781</td>\n      <td>26.437987</td>\n      <td>0.989558</td>\n      <td>True</td>\n      <td>NaN</td>\n      <td>0.478830</td>\n      <td>0.000000</td>\n      <td>1.0</td>\n      <td>0.002116</td>\n      <td>1316.859315</td>\n      <td>comte</td>\n      <td>1</td>\n      <td>UWaveGestureLibrary</td>\n    </tr>\n    <tr>\n      <th>...</th>\n      <td>...</td>\n      <td>...</td>\n      <td>...</td>\n      <td>...</td>\n      <td>...</td>\n      <td>...</td>\n      <td>...</td>\n      <td>...</td>\n      <td>...</td>\n      <td>...</td>\n      <td>...</td>\n      <td>...</td>\n      <td>...</td>\n      <td>...</td>\n      <td>...</td>\n      <td>...</td>\n    </tr>\n    <tr>\n      <th>95</th>\n      <td>300</td>\n      <td>158.0</td>\n      <td>0.167196</td>\n      <td>144.647351</td>\n      <td>12.668673</td>\n      <td>0.772654</td>\n      <td>True</td>\n      <td>1.0</td>\n      <td>0.487605</td>\n      <td>0.041953</td>\n      <td>3.0</td>\n      <td>0.006349</td>\n      <td>48.047095</td>\n      <td>subspace_gknn_cch_mut07</td>\n      <td>2</td>\n      <td>UWaveGestureLibrary</td>\n    </tr>\n    <tr>\n      <th>96</th>\n      <td>302</td>\n      <td>84.0</td>\n      <td>0.088889</td>\n      <td>82.245441</td>\n      <td>9.598369</td>\n      <td>0.449715</td>\n      <td>True</td>\n      <td>1.0</td>\n      <td>0.591355</td>\n      <td>0.123180</td>\n      <td>5.0</td>\n      <td>0.010582</td>\n      <td>44.687890</td>\n      <td>subspace_gknn_cch_mut07</td>\n      <td>2</td>\n      <td>UWaveGestureLibrary</td>\n    </tr>\n    <tr>\n      <th>97</th>\n      <td>303</td>\n      <td>43.0</td>\n      <td>0.045503</td>\n      <td>38.132580</td>\n      <td>6.282867</td>\n      <td>0.620453</td>\n      <td>True</td>\n      <td>1.0</td>\n      <td>0.525460</td>\n      <td>0.036501</td>\n      <td>2.0</td>\n      <td>0.004233</td>\n      <td>43.703472</td>\n      <td>subspace_gknn_cch_mut07</td>\n      <td>2</td>\n      <td>UWaveGestureLibrary</td>\n    </tr>\n    <tr>\n      <th>98</th>\n      <td>314</td>\n      <td>570.0</td>\n      <td>0.603175</td>\n      <td>556.326838</td>\n      <td>27.585234</td>\n      <td>0.814680</td>\n      <td>True</td>\n      <td>1.0</td>\n      <td>0.667473</td>\n      <td>0.013069</td>\n      <td>6.0</td>\n      <td>0.012698</td>\n      <td>83.094417</td>\n      <td>subspace_gknn_cch_mut07</td>\n      <td>2</td>\n      <td>UWaveGestureLibrary</td>\n    </tr>\n    <tr>\n      <th>99</th>\n      <td>318</td>\n      <td>90.0</td>\n      <td>0.095238</td>\n      <td>64.865204</td>\n      <td>8.459335</td>\n      <td>0.546384</td>\n      <td>True</td>\n      <td>1.0</td>\n      <td>0.590559</td>\n      <td>0.025008</td>\n      <td>3.0</td>\n      <td>0.006349</td>\n      <td>39.797325</td>\n      <td>subspace_gknn_cch_mut07</td>\n      <td>2</td>\n      <td>UWaveGestureLibrary</td>\n    </tr>\n  </tbody>\n</table>\n<p>200 rows × 16 columns</p>\n</div>"
     },
     "execution_count": 11,
     "metadata": {},
     "output_type": "execute_result"
    }
   ],
   "source": [
    "dataset = \"UWaveGestureLibrary\"\n",
    "results_all_datasets_df[results_all_datasets_df[\"dataset\"]==dataset]"
   ],
   "metadata": {
    "collapsed": false,
    "ExecuteTime": {
     "end_time": "2024-09-16T11:33:46.989875500Z",
     "start_time": "2024-09-16T11:33:46.958739600Z"
    }
   }
  },
  {
   "cell_type": "code",
   "execution_count": 12,
   "outputs": [],
   "source": [
    "# methods = [\"subspace_grouped\", \"subspace_v2_grouped\", \"subspace_individual\", \"subspace_v2_individual\"]\n",
    "common_index_instance = 13"
   ],
   "metadata": {
    "collapsed": false,
    "ExecuteTime": {
     "end_time": "2024-09-16T11:33:47.802447100Z",
     "start_time": "2024-09-16T11:33:47.786816500Z"
    }
   }
  },
  {
   "cell_type": "code",
   "execution_count": 13,
   "metadata": {
    "ExecuteTime": {
     "end_time": "2024-09-16T11:33:50.476445600Z",
     "start_time": "2024-09-16T11:33:48.802455900Z"
    }
   },
   "outputs": [
    {
     "name": "stdout",
     "output_type": "stream",
     "text": [
      "Sample 51: true class 1, x_orig predicted 1, desired_class  6\n"
     ]
    },
    {
     "ename": "ValueError",
     "evalue": "Not detected NUN finding procedure in name. Method name must contain \"gknn\" or \"iknn\"",
     "output_type": "error",
     "traceback": [
      "\u001B[1;31m---------------------------------------------------------------------------\u001B[0m",
      "\u001B[1;31mValueError\u001B[0m                                Traceback (most recent call last)",
      "Cell \u001B[1;32mIn[13], line 23\u001B[0m\n\u001B[0;32m     21\u001B[0m \u001B[38;5;66;03m# Show result\u001B[39;00m\n\u001B[0;32m     22\u001B[0m \u001B[38;5;28mprint\u001B[39m(\u001B[38;5;124mf\u001B[39m\u001B[38;5;124m'\u001B[39m\u001B[38;5;124mSample \u001B[39m\u001B[38;5;132;01m{\u001B[39;00minstance_index\u001B[38;5;132;01m}\u001B[39;00m\u001B[38;5;124m: true class \u001B[39m\u001B[38;5;132;01m{\u001B[39;00my_test[instance_index]\u001B[38;5;132;01m}\u001B[39;00m\u001B[38;5;124m, x_orig predicted \u001B[39m\u001B[38;5;132;01m{\u001B[39;00moriginal_class\u001B[38;5;132;01m}\u001B[39;00m\u001B[38;5;124m, desired_class  \u001B[39m\u001B[38;5;132;01m{\u001B[39;00mdesired_class\u001B[38;5;132;01m}\u001B[39;00m\u001B[38;5;124m'\u001B[39m)\n\u001B[1;32m---> 23\u001B[0m \u001B[43mplot_comp_cfs\u001B[49m\u001B[43m(\u001B[49m\u001B[43mx_orig\u001B[49m\u001B[43m,\u001B[49m\u001B[43m \u001B[49m\u001B[43mpossible_nuns_instance\u001B[49m\u001B[43m,\u001B[49m\u001B[43m \u001B[49m\u001B[43msol_cfs_methods\u001B[49m\u001B[43m)\u001B[49m\n",
      "Cell \u001B[1;32mIn[10], line 28\u001B[0m, in \u001B[0;36mplot_comp_cfs\u001B[1;34m(x_orig, possible_nuns, x_cfs_dict)\u001B[0m\n\u001B[0;32m     26\u001B[0m     nun_example \u001B[38;5;241m=\u001B[39m possible_nuns[\u001B[38;5;124m\"\u001B[39m\u001B[38;5;124miknn\u001B[39m\u001B[38;5;124m\"\u001B[39m]\n\u001B[0;32m     27\u001B[0m \u001B[38;5;28;01melse\u001B[39;00m:\n\u001B[1;32m---> 28\u001B[0m     \u001B[38;5;28;01mraise\u001B[39;00m \u001B[38;5;167;01mValueError\u001B[39;00m(\u001B[38;5;124m'\u001B[39m\u001B[38;5;124mNot detected NUN finding procedure in name. Method name must contain \u001B[39m\u001B[38;5;124m\"\u001B[39m\u001B[38;5;124mgknn\u001B[39m\u001B[38;5;124m\"\u001B[39m\u001B[38;5;124m or \u001B[39m\u001B[38;5;124m\"\u001B[39m\u001B[38;5;124miknn\u001B[39m\u001B[38;5;124m\"\u001B[39m\u001B[38;5;124m'\u001B[39m)\n\u001B[0;32m     29\u001B[0m found_counterfactual_mask \u001B[38;5;241m=\u001B[39m (x_orig \u001B[38;5;241m!=\u001B[39m x_cf\u001B[38;5;241m.\u001B[39mreshape(\u001B[38;5;241m1\u001B[39m, length, n_channels))\u001B[38;5;241m.\u001B[39mastype(\u001B[38;5;28mint\u001B[39m)\n\u001B[0;32m     30\u001B[0m diff_mask \u001B[38;5;241m=\u001B[39m np\u001B[38;5;241m.\u001B[39mdiff(found_counterfactual_mask, prepend\u001B[38;5;241m=\u001B[39m\u001B[38;5;241m0\u001B[39m, append\u001B[38;5;241m=\u001B[39m\u001B[38;5;241m0\u001B[39m, axis\u001B[38;5;241m=\u001B[39m\u001B[38;5;241m1\u001B[39m)\n",
      "\u001B[1;31mValueError\u001B[0m: Not detected NUN finding procedure in name. Method name must contain \"gknn\" or \"iknn\""
     ]
    },
    {
     "data": {
      "text/plain": "<Figure size 2200x1600 with 0 Axes>"
     },
     "metadata": {},
     "output_type": "display_data"
    }
   ],
   "source": [
    "# Get data\n",
    "X_train, y_train, X_test, y_test = data_dict[dataset]\n",
    "common_indexes = common_test_indexes_dict[dataset]\n",
    "instance_index = common_indexes[common_index_instance]\n",
    "\n",
    "# Get common cfs calculated for all method\n",
    "x_orig = X_test[instance_index]\n",
    "\n",
    "# Get possible NUNs\n",
    "possible_nuns = possible_nuns_dict[dataset]\n",
    "possible_nuns_instance = {type: possible_nuns[type][instance_index] for type in [\"gknn\", \"iknn\"]}\n",
    "\n",
    "# Get original class and desired class\n",
    "original_class = original_classes_dict[dataset][instance_index]\n",
    "desired_class = desired_classes_dict[dataset][instance_index]\n",
    "\n",
    "# Get the cf calculated for all methods\n",
    "sol_cfs_methods = methods_cfs_dict[dataset]\n",
    "sol_cfs_methods = {method: sol_cfs[common_index_instance]['cf'] for method, sol_cfs in sol_cfs_methods.items()}\n",
    "\n",
    "# Show result\n",
    "print(f'Sample {instance_index}: true class {y_test[instance_index]}, x_orig predicted {original_class}, desired_class  {desired_class}')\n",
    "plot_comp_cfs(x_orig, possible_nuns_instance, sol_cfs_methods)\n"
   ]
  },
  {
   "cell_type": "code",
   "execution_count": 13,
   "metadata": {
    "ExecuteTime": {
     "end_time": "2024-06-13T15:00:21.057506500Z",
     "start_time": "2024-06-13T15:00:20.807476400Z"
    }
   },
   "outputs": [],
   "source": []
  },
  {
   "cell_type": "code",
   "execution_count": null,
   "metadata": {},
   "outputs": [],
   "source": []
  },
  {
   "cell_type": "code",
   "execution_count": null,
   "outputs": [],
   "source": [],
   "metadata": {
    "collapsed": false
   }
  },
  {
   "cell_type": "code",
   "execution_count": null,
   "outputs": [],
   "source": [],
   "metadata": {
    "collapsed": false
   }
  },
  {
   "cell_type": "code",
   "execution_count": null,
   "metadata": {},
   "outputs": [],
   "source": [
    "# Create plot with examples of each method in each dataset"
   ]
  },
  {
   "cell_type": "code",
   "execution_count": null,
   "metadata": {},
   "outputs": [],
   "source": [
    "# CBF: 1, 2, 10, 18, 19\n",
    "# chinatown: 3, 7, 19\n",
    "# coffee: 1, 3, 9, 16\n",
    "# ECG200: 0, 13\n",
    "# gunpoint: 9, 10, 15 (pesimos en general)\n",
    "dataset_samples = [('CBF', 2), ('chinatown', 19), ('coffee', 3), ('ECG200', 13), ('gunpoint', 15)]\n",
    "methods_trad_dict = {\"wcf_ng\": \"W-CF\", \"ng\": \"NG\", \"ab_cf\": \"AB-CF\", \"subspace\": \"Sub-SpaCE\"}\n",
    "methods = list(methods_trad_dict.keys())\n",
    "include_nun_list = [False, False, False, False]"
   ]
  },
  {
   "cell_type": "code",
   "execution_count": null,
   "metadata": {},
   "outputs": [],
   "source": [
    "from collections import OrderedDict\n",
    "\n",
    "# Define outer grid\n",
    "fig = plt.figure(figsize=(16, 6))\n",
    "grid_rows = len(methods)\n",
    "grid_columns = len(dataset_samples)\n",
    "outer_grid = gridspec.GridSpec(grid_rows, grid_columns, wspace=0, hspace=0)\n",
    "\n",
    "# Iterate through outer grid plots\n",
    "for i_outer, outer in enumerate(outer_grid):\n",
    "    i_dataset = i_outer % grid_columns\n",
    "    dataset, instance = dataset_samples[i_dataset]\n",
    "    column_title = f'{dataset} instance {instance}'\n",
    "    \n",
    "    X_train, y_train, X_test, y_test = data_dict[dataset]\n",
    "    nuns_idx = nuns_idx_dict[dataset]\n",
    "    sol_cfs_methods = sol_cfs_dict[dataset]\n",
    "    sol_cfs_methods = {method: sol_cfs_methods[method][instance]['cf'] for method in methods}\n",
    "\n",
    "    # Calculate auxiliary variables\n",
    "    method_names = list(sol_cfs_methods.keys())\n",
    "    x_cfs = list(sol_cfs_methods.values())\n",
    "    x_orig = X_test[instance]\n",
    "    nun_example = X_train[nuns_idx[instance]]\n",
    "    length = x_orig.shape[0]\n",
    "    n_channels = x_orig.shape[1]\n",
    "\n",
    "    # get method m\n",
    "    m = i_outer // grid_columns\n",
    "    try:\n",
    "        # Get change mask \n",
    "        x_cf = x_cfs[m]\n",
    "        method_name = method_names[m]\n",
    "        found_counterfactual_mask = (x_orig != x_cf.reshape(1, length, n_channels)).astype(int)\n",
    "        diff_mask = np.diff(found_counterfactual_mask, prepend=0, append=0, axis=1)\n",
    "    except IndexError:\n",
    "        break\n",
    "\n",
    "    # Create inner grid\n",
    "    inner_grid = gridspec.GridSpecFromSubplotSpec(n_channels, 1, wspace=0, hspace=0, subplot_spec=outer)\n",
    "    sub_channel_axs = []\n",
    "    for i in range(n_channels):\n",
    "        ax = plt.Subplot(fig, inner_grid[i])\n",
    "        if include_nun_list[m]:\n",
    "            ax.plot(nun_example.reshape(1, length, n_channels)[:, :, i].flatten(), color='grey')\n",
    "        ax.plot(x_cf.reshape(1, length, n_channels)[:, :, i].flatten(), color='red')\n",
    "        ax.plot(x_orig.reshape(1, length, n_channels)[:, :, i].flatten(), color=\"#332288\")\n",
    "        # ax.axis(\"off\")\n",
    "        ax.set_xticks([])\n",
    "        ax.set_yticks([])\n",
    "        \n",
    "        # Add fill to changes\n",
    "        starts = np.clip( np.where(diff_mask[0, :, i].flatten() == 1)[0] - 1 , 0, length)\n",
    "        ends = np.where(diff_mask[0, :, i].flatten() == -1)[0]\n",
    "        # Iterate over the mask segments and fill them with red color\n",
    "        for i in range(0, len(starts)):\n",
    "            start_idx = starts[i]\n",
    "            end_idx = ends[i]\n",
    "            # plt.fill_between(comp_df.iloc[start_idx:end_idx].index, comp_df.min(), comp_df.max(), color='red', alpha=0.7)\n",
    "            ax.axvspan(start_idx, end_idx, alpha=0.2, color='red')\n",
    "        \n",
    "        # Set column titles\n",
    "        if m == 0:\n",
    "            ax.set_title(column_title)\n",
    "        if i_dataset == 0:\n",
    "            ax.set_ylabel(methods_trad_dict[method_name], size='large')\n",
    "        # Add ax to list of subplots\n",
    "        fig.add_subplot(ax)\n",
    "        sub_channel_axs.append(ax)\n",
    "\n",
    "# Plot figure\n",
    "plt.tight_layout()\n",
    "\"\"\"fig.legend(\n",
    "    sub_channel_axs,     # The line objects\n",
    "    labels=['$x^n$', 'x', \"x'\"],   # The labels for each line\n",
    "    loc='lower center',\n",
    "    # loc='center right',\n",
    "    prop={'size': 14},\n",
    "    ncol=3\n",
    ")\"\"\"\n",
    "# plt.show()\n",
    "# plt.savefig('./experiments/results/examples_cfs.png', dpi=300)\n"
   ]
  },
  {
   "cell_type": "code",
   "execution_count": null,
   "metadata": {},
   "outputs": [],
   "source": []
  },
  {
   "cell_type": "code",
   "execution_count": null,
   "metadata": {},
   "outputs": [],
   "source": []
  },
  {
   "cell_type": "code",
   "execution_count": null,
   "metadata": {},
   "outputs": [],
   "source": [
    "from collections import OrderedDict\n",
    "\n",
    "# Define outer grid\n",
    "fig = plt.figure(figsize=(12, 12))\n",
    "grid_rows = len(dataset_samples)\n",
    "grid_columns = len(methods)\n",
    "outer_grid = gridspec.GridSpec(grid_rows, grid_columns, wspace=0, hspace=0)\n",
    "\n",
    "# Iterate through outer grid plots\n",
    "for i_outer, outer in enumerate(outer_grid):\n",
    "    i_dataset = i_outer // grid_columns\n",
    "    dataset, instance = dataset_samples[i_dataset]\n",
    "    \n",
    "    X_train, y_train, X_test, y_test = data_dict[dataset]\n",
    "    nuns_idx = nuns_idx_dict[dataset]\n",
    "    sol_cfs_methods = sol_cfs_dict[dataset]\n",
    "    sol_cfs_methods = {method: sol_cfs_methods[method][instance]['cf'] for method in methods}\n",
    "\n",
    "    # Calculate auxiliary variables\n",
    "    method_names = list(sol_cfs_methods.keys())\n",
    "    x_cfs = list(sol_cfs_methods.values())\n",
    "    x_orig = X_test[instance]\n",
    "    nun_example = X_train[nuns_idx[instance]]\n",
    "    length = x_orig.shape[0]\n",
    "    n_channels = x_orig.shape[1]\n",
    "\n",
    "    # get method m\n",
    "    m = i_outer % grid_columns\n",
    "    try:\n",
    "        # Get change mask \n",
    "        x_cf = x_cfs[m]\n",
    "        method_name = method_names[m]\n",
    "        found_counterfactual_mask = (x_orig != x_cf.reshape(1, length, n_channels)).astype(int)\n",
    "        diff_mask = np.diff(found_counterfactual_mask, prepend=0, append=0, axis=1)\n",
    "    except IndexError:\n",
    "        break\n",
    "    \n",
    "    # Create inner grid\n",
    "    inner_grid = gridspec.GridSpecFromSubplotSpec(n_channels, 1, wspace=0, hspace=0, subplot_spec=outer)\n",
    "    sub_channel_axs = []\n",
    "    for i in range(n_channels):\n",
    "        ax = plt.Subplot(fig, inner_grid[i])\n",
    "        if include_nun_list[m]:\n",
    "            ax.plot(nun_example.reshape(1, length, n_channels)[:, :, i].flatten(), color='grey')\n",
    "        ax.plot(x_cf.reshape(1, length, n_channels)[:, :, i].flatten(), color='red')\n",
    "        ax.plot(x_orig.reshape(1, length, n_channels)[:, :, i].flatten(), color=\"#332288\")\n",
    "        # ax.axis(\"off\")\n",
    "        ax.set_xticks([])\n",
    "        ax.set_yticks([])\n",
    "        \n",
    "        # Add fill to changes\n",
    "        starts = np.clip( np.where(diff_mask[0, :, i].flatten() == 1)[0] - 1 , 0, length)\n",
    "        ends = np.where(diff_mask[0, :, i].flatten() == -1)[0]\n",
    "        # Iterate over the mask segments and fill them with red color\n",
    "        for i in range(0, len(starts)):\n",
    "            start_idx = starts[i]\n",
    "            end_idx = ends[i]\n",
    "            # plt.fill_between(comp_df.iloc[start_idx:end_idx].index, comp_df.min(), comp_df.max(), color='red', alpha=0.7)\n",
    "            ax.axvspan(start_idx, end_idx, alpha=0.2, color='red')\n",
    "        \n",
    "        # Set column titles\n",
    "        column_title = methods_trad_dict[method_name]\n",
    "        # row_title = f'{dataset} \\n instance {instance}'\n",
    "        row_title = f'{dataset} [{instance}]'\n",
    "        if m == 0:\n",
    "            ax.set_ylabel(row_title, fontsize=16, rotation=90)\n",
    "        if i_dataset == 0:\n",
    "            ax.set_title(column_title, fontsize=18)\n",
    "            \n",
    "        # Add ax to list of subplots\n",
    "        fig.add_subplot(ax)\n",
    "        sub_channel_axs.append(ax)\n",
    "\n",
    "# Plot figure\n",
    "plt.tight_layout()\n",
    "\"\"\"fig.legend(\n",
    "    sub_channel_axs,     # The line objects\n",
    "    labels=['$x^n$', 'x', \"x'\"],   # The labels for each line\n",
    "    # loc='lower center',\n",
    "    loc='center right',\n",
    "    prop={'size': 18},\n",
    "    ncol=1\n",
    ")\"\"\"\n",
    "# plt.show()\n",
    "plt.savefig('./experiments/results/examples_cfs.png', dpi=300)\n"
   ]
  },
  {
   "cell_type": "code",
   "execution_count": null,
   "metadata": {},
   "outputs": [],
   "source": []
  }
 ],
 "metadata": {
  "hide_input": false,
  "kernelspec": {
   "display_name": "Python 3 (ipykernel)",
   "language": "python",
   "name": "python3"
  },
  "language_info": {
   "codemirror_mode": {
    "name": "ipython",
    "version": 3
   },
   "file_extension": ".py",
   "mimetype": "text/x-python",
   "name": "python",
   "nbconvert_exporter": "python",
   "pygments_lexer": "ipython3",
   "version": "3.8.18"
  },
  "toc": {
   "base_numbering": 1,
   "nav_menu": {},
   "number_sections": true,
   "sideBar": true,
   "skip_h1_title": false,
   "title_cell": "Table of Contents",
   "title_sidebar": "Contents",
   "toc_cell": false,
   "toc_position": {},
   "toc_section_display": true,
   "toc_window_display": false
  }
 },
 "nbformat": 4,
 "nbformat_minor": 4
}
