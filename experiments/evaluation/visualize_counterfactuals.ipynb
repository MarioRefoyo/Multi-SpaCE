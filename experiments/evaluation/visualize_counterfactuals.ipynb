{
 "cells": [
  {
   "cell_type": "code",
   "execution_count": 3,
   "metadata": {
    "ExecuteTime": {
     "end_time": "2024-09-20T18:20:00.819277200Z",
     "start_time": "2024-09-20T18:20:00.801467600Z"
    }
   },
   "outputs": [
    {
     "name": "stdout",
     "output_type": "stream",
     "text": [
      "D:\\Users\\mrefoyo\\Proyectos\\Sub-SpaCE_plus\n"
     ]
    }
   ],
   "source": [
    "cd ../.."
   ]
  },
  {
   "cell_type": "code",
   "execution_count": 4,
   "metadata": {
    "ExecuteTime": {
     "end_time": "2024-09-20T18:20:08.348379500Z",
     "start_time": "2024-09-20T18:20:01.567199900Z"
    }
   },
   "outputs": [
    {
     "name": "stdout",
     "output_type": "stream",
     "text": [
      "2.13.0\n"
     ]
    }
   ],
   "source": [
    "import os\n",
    "import pickle\n",
    "import copy\n",
    "import numpy as np\n",
    "import pandas as pd\n",
    "import matplotlib.pyplot as plt\n",
    "import matplotlib.gridspec as gridspec\n",
    "import tensorflow as tf\n",
    "\n",
    "from experiments.evaluation.evaluation_utils import load_dataset_for_eval, calculate_metrics_for_dataset\n",
    "\n",
    "print(tf.__version__)"
   ]
  },
  {
   "cell_type": "code",
   "execution_count": 9,
   "metadata": {
    "ExecuteTime": {
     "end_time": "2024-09-20T18:23:03.959317100Z",
     "start_time": "2024-09-20T18:23:03.943649Z"
    }
   },
   "outputs": [],
   "source": [
    "# DATASETS = ['CBF', 'chinatown', 'coffee', 'gunpoint', 'ECG200']\n",
    "DATASETS = [\"BasicMotions\", \"NATOPS\", \"UWaveGestureLibrary\"]\n",
    "model_to_explain = \"cls_basic_train\"\n",
    "ae_name = \"ae_basic_train\"\n",
    "methods = {\n",
    "    # Basic experimentos\n",
    "    # \"43b17a2e4f21097540adf8600402c5bd32fa60d6\": \"subspace_gknn_gch\",\n",
    "    # \"37a3f06c077321b95960769282152427a7ee48ae\": \"subspace_gknn_ich\", \n",
    "    # \"86df14d56b66fecfb65d5805107dfe10961ecae9\": \"subspace_iknn_gch\",     \n",
    "    # \"4f40e39bfe0d3da692b5571d87f7ec915c42eba2\": \"subspace_iknn_ich\", \n",
    "    \n",
    "    # Basic experiments only gknn but with lower gamma (0.125)\n",
    "    # \"4d1faa458bab2b8c6ee14d59b824557fcc80d8e3\": \"subspace_gknn_gch_gamma0125\", \n",
    "    # \"93c0b5f0630a5dbf5d0377a4f3ff03b6868cbda1\": \"subspace_iknn_gch_gamma0125\", \n",
    "    \n",
    "    # Basic experiments New IoS \n",
    "    # \"e54dcb25b02132166a719885cad2695540450ee6\": \"subspace_gknn_gch_ios\",\n",
    "    # \"9cdb2fb25d7c664d60da7aa23b4c2c0f9ec9548c\": \"subspace_gknn_ich_ios\",\n",
    "    # \"8c29354f168b9852a05523a7c26ab0f4acb30e9b\": \"subspace_iknn_gch_ios\",\n",
    "    # \"b93fe63854fe36f62900cbcae1c00ad499d41f74\": \"subspace_iknn_ich_ios\",\n",
    "    \n",
    "    # Sub-SpaCE v2 para fine tuning con optimizacion con canales independientes\n",
    "    # \"316686353c28547589d494bcc886c8334329b14e\": \"subspace_gknn_gch\",\n",
    "    # \"0f31693cb3d17afd3d67191e82e2bca887075ee6\": \"subspace_gknn_gch_moremut\",\n",
    "    # \"76f8a8271b7ba6d171b7383bce7bbf4d9286d78c\": \"subspace_gknn_gch_moreit\",\n",
    "    # \"bba03e82f6c718e1466a06087dd99606de229b40\": \"subspace_gknn_ich\",\n",
    "    # \"a246def090b506ff8ba41e861e0464493233b9d1\": \"subspace_gknn_ich_moremut\",\n",
    "    # \"d3b12b6ac5e2ab4e68901859273a55edb14d5590\": \"subspace_gknn_ich_moreit\",\n",
    "    # \"cfbb6793595875fa49b7becafefa2ff2df33a2f6\": \"subspace_gknn_cch\",\n",
    "    # \"e4a8da55a30853287350d3540873bcb91cb50b70\": \"subspace_gknn_cch_moremut\",\n",
    "    # \"fe0be96f08c5d37950f7ae2c50d7f81fc050c185\": \"subspace_gknn_cch_moreit\",\n",
    "    \n",
    "    # Sub-SpaCE v2 con NUN sinteticos\n",
    "    # \"0f31693cb3d17afd3d67191e82e2bca887075ee6\": \"subspace_gknn_gch_moremut\",\n",
    "    # \"988e9ee7e36478e6b02628f6fd15e8f6fdabce63\": \"subspace_iknn_gch_moremut\",\n",
    "    # \"a246def090b506ff8ba41e861e0464493233b9d1\": \"subspace_gknn_ich_moremut\",\n",
    "    # \"de59140e133b8214d6fd39630d49420f41f2f395\": \"subspace_iknn_ich_moremut\",\n",
    "    # \"e4a8da55a30853287350d3540873bcb91cb50b70\": \"subspace_gknn_cch_moremut\",\n",
    "    # \"af3bb75a4e9d84bc4cb545b21941e6750ce17b45\": \"subspace_iknn_cch_moremut\",\n",
    "    \n",
    "    # Sub-SpaCE v2 mutation study\n",
    "    # \"a39f776a35cfd7c4530ed4c8f104fcef9b650512\": \"subspace_gknn_ich_mut01\",\n",
    "    # \"99b876d673ecb07aa65860859a2f6467617b8c86\": \"subspace_gknn_gch_mut01\",\n",
    "    # \"7469da9fdf840b4b4c2b38bc4bc9111016b32de5\": \"subspace_gknn_cch_mut01\",\n",
    "    # \"db736bc9c4068ecbfbc96a90e98dc0eb3efbaa92\": \"subspace_gknn_ich_mut02\",\n",
    "    # \"cbbcedcb6d9fd15f864bcc72209e990664f578cc\": \"subspace_gknn_gch_mut02\",\n",
    "    # \"3a2f5d028e5e5ee1637634010ddab48db711879f\": \"subspace_gknn_cch_mut02\",\n",
    "    # \"e702bb244e58da0e7ebbc277bb04c45fb09118aa\": \"subspace_gknn_ich_mut04\",\n",
    "    # \"5643e1c660ae69f41f58f9b71109809ac41d806a\": \"subspace_gknn_gch_mut04\",\n",
    "    # \"d3103c82728b7e2d32be72d2c3029c225869b952\": \"subspace_gknn_cch_mut04\",\n",
    "    # \"6a1225fc4657ca27a9d23ed21050b2fb890175c3\": \"subspace_gknn_ich_mut05\",\n",
    "    # \"41f42efc9de796a8dafc08265dc029d606e452cf\": \"subspace_gknn_gch_mut05\",\n",
    "    # \"2a7b2e8d4df37d7d7ece4e9b45999a3679252362\": \"subspace_gknn_cch_mut05\",\n",
    "    # \"14f1a162dc03f18a16cb1044efd076f3a4fb61a2\": \"subspace_gknn_ich_mut07\",\n",
    "    # \"e76bb3c93b88f711dd5d25a3ac5704c3bf98b4cf\": \"subspace_gknn_gch_mut07\",\n",
    "    # \"e58d4a60e2c54feed0add715c4c3b28afbb37969\": \"subspace_gknn_cch_mut07\",\n",
    "    # \"6d734428c0fea87d3327bea1408b47c483d33e9e\": \"subspace_gknn_ich_mut09\",\n",
    "    # \"e347534c7eb328d5ddafe940f724a02f9a14ec80\": \"subspace_gknn_gch_mut09\",\n",
    "    # \"b945f3452ca7deb539f84c45d6c6202e75563c55\": \"subspace_gknn_cch_mut09\",\n",
    "    \n",
    "    # First comparison with other methods\n",
    "    \"comte\": \"comte\",\n",
    "    \"abcf\": \"abcf\",\n",
    "    \"discox\": \"discox\",\n",
    "    \"d455a715713b180b88739f05c8ef8ea313d6abfc\": \"subspace_gknn_cch_mut07\",\n",
    "    \n",
    "}\n",
    "\n"
   ]
  },
  {
   "cell_type": "code",
   "execution_count": 9,
   "metadata": {
    "ExecuteTime": {
     "end_time": "2024-09-20T18:23:04.505996400Z",
     "start_time": "2024-09-20T18:23:04.495469100Z"
    }
   },
   "outputs": [],
   "source": []
  },
  {
   "cell_type": "markdown",
   "metadata": {},
   "source": [
    "# Get results"
   ]
  },
  {
   "cell_type": "code",
   "execution_count": 10,
   "metadata": {
    "ExecuteTime": {
     "end_time": "2024-09-20T18:24:02.662841Z",
     "start_time": "2024-09-20T18:23:05.037284500Z"
    }
   },
   "outputs": [
    {
     "name": "stdout",
     "output_type": "stream",
     "text": [
      "Calculating metrics for BasicMotions\n",
      "abcf\n"
     ]
    },
    {
     "name": "stderr",
     "output_type": "stream",
     "text": [
      "100%|██████████| 40/40 [00:01<00:00, 20.08it/s]\n"
     ]
    },
    {
     "name": "stdout",
     "output_type": "stream",
     "text": [
      "comte\n"
     ]
    },
    {
     "name": "stderr",
     "output_type": "stream",
     "text": [
      "100%|██████████| 40/40 [00:01<00:00, 21.02it/s]\n"
     ]
    },
    {
     "name": "stdout",
     "output_type": "stream",
     "text": [
      "d455a715713b180b88739f05c8ef8ea313d6abfc\n"
     ]
    },
    {
     "name": "stderr",
     "output_type": "stream",
     "text": [
      "100%|██████████| 40/40 [00:01<00:00, 20.81it/s]\n"
     ]
    },
    {
     "name": "stdout",
     "output_type": "stream",
     "text": [
      "discox\n"
     ]
    },
    {
     "name": "stderr",
     "output_type": "stream",
     "text": [
      "100%|██████████| 40/40 [00:02<00:00, 16.36it/s]\n"
     ]
    },
    {
     "name": "stdout",
     "output_type": "stream",
     "text": [
      "Calculating metrics for NATOPS\n",
      "abcf\n"
     ]
    },
    {
     "name": "stderr",
     "output_type": "stream",
     "text": [
      "100%|██████████| 100/100 [00:04<00:00, 20.85it/s]\n"
     ]
    },
    {
     "name": "stdout",
     "output_type": "stream",
     "text": [
      "comte\n"
     ]
    },
    {
     "name": "stderr",
     "output_type": "stream",
     "text": [
      "100%|██████████| 100/100 [00:04<00:00, 20.84it/s]\n"
     ]
    },
    {
     "name": "stdout",
     "output_type": "stream",
     "text": [
      "d455a715713b180b88739f05c8ef8ea313d6abfc\n"
     ]
    },
    {
     "name": "stderr",
     "output_type": "stream",
     "text": [
      "100%|██████████| 100/100 [00:04<00:00, 20.85it/s]\n"
     ]
    },
    {
     "name": "stdout",
     "output_type": "stream",
     "text": [
      "discox\n"
     ]
    },
    {
     "name": "stderr",
     "output_type": "stream",
     "text": [
      "100%|██████████| 100/100 [00:04<00:00, 21.05it/s]\n"
     ]
    },
    {
     "name": "stdout",
     "output_type": "stream",
     "text": [
      "Calculating metrics for UWaveGestureLibrary\n",
      "abcf\n"
     ]
    },
    {
     "name": "stderr",
     "output_type": "stream",
     "text": [
      "100%|██████████| 100/100 [00:04<00:00, 21.02it/s]\n"
     ]
    },
    {
     "name": "stdout",
     "output_type": "stream",
     "text": [
      "comte\n"
     ]
    },
    {
     "name": "stderr",
     "output_type": "stream",
     "text": [
      "100%|██████████| 100/100 [00:04<00:00, 20.85it/s]\n"
     ]
    },
    {
     "name": "stdout",
     "output_type": "stream",
     "text": [
      "d455a715713b180b88739f05c8ef8ea313d6abfc\n"
     ]
    },
    {
     "name": "stderr",
     "output_type": "stream",
     "text": [
      "100%|██████████| 100/100 [00:04<00:00, 20.64it/s]\n"
     ]
    },
    {
     "name": "stdout",
     "output_type": "stream",
     "text": [
      "discox\n"
     ]
    },
    {
     "name": "stderr",
     "output_type": "stream",
     "text": [
      "100%|██████████| 100/100 [00:05<00:00, 19.78it/s]\n"
     ]
    }
   ],
   "source": [
    "# Data and aux data dict\n",
    "data_dict = {}\n",
    "models_dict = {}\n",
    "outlier_calculators_dict = {}\n",
    "possible_nuns_dict = {}\n",
    "desired_classes_dict = {}\n",
    "original_classes_dict = {}\n",
    "\n",
    "# Results dicts\n",
    "mean_results_dict = {}\n",
    "methods_cfs_dict = {}\n",
    "results_all_datasets_df = pd.DataFrame()\n",
    "common_test_indexes_dict = {}\n",
    "\n",
    "# Iterate through datasets\n",
    "for dataset in DATASETS:\n",
    "    print(f'Calculating metrics for {dataset}')\n",
    "    # Load all info needed to get the counterfactual\n",
    "    data_tuple, original_classes, model, outlier_calculator, possible_nuns, desired_classes = load_dataset_for_eval(dataset, model_to_explain, ae_name)\n",
    "    data_dict[dataset] = data_tuple\n",
    "    models_dict[dataset] = model\n",
    "    outlier_calculators_dict[dataset] = outlier_calculator\n",
    "    possible_nuns_dict[dataset] = possible_nuns\n",
    "    desired_classes_dict[dataset] = desired_classes\n",
    "    original_classes_dict[dataset] = original_classes\n",
    "\n",
    "    # Get the metrics for all methods\n",
    "    dataset_mean_std_df, dataset_results_df, method_cfs_dataset, common_test_indexes = calculate_metrics_for_dataset(\n",
    "        dataset, methods, model_to_explain,\n",
    "        data_tuple, original_classes, model, outlier_calculator, possible_nuns\n",
    "    )\n",
    "    mean_results_dict[dataset] = dataset_mean_std_df\n",
    "    methods_cfs_dict[dataset] = method_cfs_dataset\n",
    "    results_all_datasets_df = pd.concat([results_all_datasets_df, dataset_results_df])\n",
    "    common_test_indexes_dict[dataset] = common_test_indexes\n",
    "\n",
    "    # Store results\n",
    "    dataset_mean_std_df.to_csv(f'./experiments/evaluation/results_mean_metrics_{dataset}.csv', sep=\";\", index=False)\n",
    "\n",
    "# Store all results\n",
    "results_all_datasets_df.to_csv(f'./experiments/evaluation/results_all.csv', sep=\";\", index=False)\n"
   ]
  },
  {
   "cell_type": "code",
   "execution_count": 11,
   "metadata": {
    "ExecuteTime": {
     "end_time": "2024-09-20T18:24:02.741342500Z",
     "start_time": "2024-09-20T18:24:02.662841Z"
    }
   },
   "outputs": [
    {
     "name": "stdout",
     "output_type": "stream",
     "text": [
      "BasicMotions\n"
     ]
    },
    {
     "data": {
      "text/plain": "                    method            ii         nchanges     sparsity  \\\n0                     abcf  19.5 ± 11.69   328.78 ± 170.0  0.55 ± 0.28   \n1                    comte  19.5 ± 11.69   287.42 ± 46.32  0.48 ± 0.08   \n2  subspace_gknn_cch_mut07  19.5 ± 11.69  270.98 ± 148.86  0.45 ± 0.25   \n3                   discox  19.5 ± 11.69    78.75 ± 25.19  0.13 ± 0.04   \n\n                  L1              L2        proba        valid nuns_valid  \\\n0  1257.44 ± 1157.54    89.51 ± 67.4  0.51 ± 0.11  0.68 ± 0.47  nan ± nan   \n1   1353.76 ± 836.66  103.36 ± 60.47  0.87 ± 0.12    1.0 ± 0.0  nan ± nan   \n2     960.68 ± 961.2    73.8 ± 57.13   0.7 ± 0.14    1.0 ± 0.0  1.0 ± 0.0   \n3    460.58 ± 206.72   68.75 ± 23.75  0.34 ± 0.07    0.6 ± 0.5  nan ± nan   \n\n  outlier_score increase_outlier_score   subsequences subsequences %  \\\n0    0.4 ± 0.24            0.03 ± 0.03   10.48 ± 6.38    0.03 ± 0.02   \n1   0.49 ± 0.32            0.14 ± 0.17     1.55 ± 0.6     0.01 ± 0.0   \n2   0.24 ± 0.16            0.01 ± 0.02    8.75 ± 3.72    0.03 ± 0.01   \n3   0.43 ± 0.14            0.19 ± 0.11  25.88 ± 18.02    0.09 ± 0.06   \n\n             times  \n0      0.81 ± 0.75  \n1   1138.65 ± 9.95  \n2     35.89 ± 9.73  \n3  470.68 ± 151.86  ",
      "text/html": "<div>\n<style scoped>\n    .dataframe tbody tr th:only-of-type {\n        vertical-align: middle;\n    }\n\n    .dataframe tbody tr th {\n        vertical-align: top;\n    }\n\n    .dataframe thead th {\n        text-align: right;\n    }\n</style>\n<table border=\"1\" class=\"dataframe\">\n  <thead>\n    <tr style=\"text-align: right;\">\n      <th></th>\n      <th>method</th>\n      <th>ii</th>\n      <th>nchanges</th>\n      <th>sparsity</th>\n      <th>L1</th>\n      <th>L2</th>\n      <th>proba</th>\n      <th>valid</th>\n      <th>nuns_valid</th>\n      <th>outlier_score</th>\n      <th>increase_outlier_score</th>\n      <th>subsequences</th>\n      <th>subsequences %</th>\n      <th>times</th>\n    </tr>\n  </thead>\n  <tbody>\n    <tr>\n      <th>0</th>\n      <td>abcf</td>\n      <td>19.5 ± 11.69</td>\n      <td>328.78 ± 170.0</td>\n      <td>0.55 ± 0.28</td>\n      <td>1257.44 ± 1157.54</td>\n      <td>89.51 ± 67.4</td>\n      <td>0.51 ± 0.11</td>\n      <td>0.68 ± 0.47</td>\n      <td>nan ± nan</td>\n      <td>0.4 ± 0.24</td>\n      <td>0.03 ± 0.03</td>\n      <td>10.48 ± 6.38</td>\n      <td>0.03 ± 0.02</td>\n      <td>0.81 ± 0.75</td>\n    </tr>\n    <tr>\n      <th>1</th>\n      <td>comte</td>\n      <td>19.5 ± 11.69</td>\n      <td>287.42 ± 46.32</td>\n      <td>0.48 ± 0.08</td>\n      <td>1353.76 ± 836.66</td>\n      <td>103.36 ± 60.47</td>\n      <td>0.87 ± 0.12</td>\n      <td>1.0 ± 0.0</td>\n      <td>nan ± nan</td>\n      <td>0.49 ± 0.32</td>\n      <td>0.14 ± 0.17</td>\n      <td>1.55 ± 0.6</td>\n      <td>0.01 ± 0.0</td>\n      <td>1138.65 ± 9.95</td>\n    </tr>\n    <tr>\n      <th>2</th>\n      <td>subspace_gknn_cch_mut07</td>\n      <td>19.5 ± 11.69</td>\n      <td>270.98 ± 148.86</td>\n      <td>0.45 ± 0.25</td>\n      <td>960.68 ± 961.2</td>\n      <td>73.8 ± 57.13</td>\n      <td>0.7 ± 0.14</td>\n      <td>1.0 ± 0.0</td>\n      <td>1.0 ± 0.0</td>\n      <td>0.24 ± 0.16</td>\n      <td>0.01 ± 0.02</td>\n      <td>8.75 ± 3.72</td>\n      <td>0.03 ± 0.01</td>\n      <td>35.89 ± 9.73</td>\n    </tr>\n    <tr>\n      <th>3</th>\n      <td>discox</td>\n      <td>19.5 ± 11.69</td>\n      <td>78.75 ± 25.19</td>\n      <td>0.13 ± 0.04</td>\n      <td>460.58 ± 206.72</td>\n      <td>68.75 ± 23.75</td>\n      <td>0.34 ± 0.07</td>\n      <td>0.6 ± 0.5</td>\n      <td>nan ± nan</td>\n      <td>0.43 ± 0.14</td>\n      <td>0.19 ± 0.11</td>\n      <td>25.88 ± 18.02</td>\n      <td>0.09 ± 0.06</td>\n      <td>470.68 ± 151.86</td>\n    </tr>\n  </tbody>\n</table>\n</div>"
     },
     "metadata": {},
     "output_type": "display_data"
    },
    {
     "name": "stdout",
     "output_type": "stream",
     "text": [
      "NATOPS\n"
     ]
    },
    {
     "data": {
      "text/plain": "                    method             ii         nchanges     sparsity  \\\n0                     abcf  87.18 ± 53.72  919.53 ± 230.35  0.75 ± 0.19   \n1                    comte  87.18 ± 53.72   166.86 ± 53.52  0.14 ± 0.04   \n2  subspace_gknn_cch_mut07  87.18 ± 53.72   358.69 ± 150.2  0.29 ± 0.12   \n3                   discox  87.18 ± 53.72    85.12 ± 24.58  0.07 ± 0.02   \n\n                L1            L2        proba        valid nuns_valid  \\\n0  307.74 ± 137.75  14.82 ± 6.05  0.69 ± 0.18  0.86 ± 0.35  nan ± nan   \n1    78.53 ± 60.13   7.87 ± 4.78  0.73 ± 0.16  0.92 ± 0.27  nan ± nan   \n2  162.87 ± 121.65  10.75 ± 6.46  0.93 ± 0.06    1.0 ± 0.0  1.0 ± 0.0   \n3    29.94 ± 24.86    6.2 ± 4.04   0.4 ± 0.09  0.17 ± 0.38  nan ± nan   \n\n  outlier_score increase_outlier_score   subsequences subsequences %  \\\n0   0.62 ± 0.19            0.09 ± 0.11  53.02 ± 19.52    0.09 ± 0.03   \n1   0.79 ± 0.33            0.24 ± 0.19    2.96 ± 0.82      0.0 ± 0.0   \n2   0.57 ± 0.18            0.04 ± 0.04   23.64 ± 2.71     0.04 ± 0.0   \n3   0.71 ± 0.35            0.18 ± 0.17  52.06 ± 20.02    0.09 ± 0.03   \n\n              times  \n0       0.98 ± 0.68  \n1  1458.82 ± 192.98  \n2      34.17 ± 9.04  \n3  1329.99 ± 261.59  ",
      "text/html": "<div>\n<style scoped>\n    .dataframe tbody tr th:only-of-type {\n        vertical-align: middle;\n    }\n\n    .dataframe tbody tr th {\n        vertical-align: top;\n    }\n\n    .dataframe thead th {\n        text-align: right;\n    }\n</style>\n<table border=\"1\" class=\"dataframe\">\n  <thead>\n    <tr style=\"text-align: right;\">\n      <th></th>\n      <th>method</th>\n      <th>ii</th>\n      <th>nchanges</th>\n      <th>sparsity</th>\n      <th>L1</th>\n      <th>L2</th>\n      <th>proba</th>\n      <th>valid</th>\n      <th>nuns_valid</th>\n      <th>outlier_score</th>\n      <th>increase_outlier_score</th>\n      <th>subsequences</th>\n      <th>subsequences %</th>\n      <th>times</th>\n    </tr>\n  </thead>\n  <tbody>\n    <tr>\n      <th>0</th>\n      <td>abcf</td>\n      <td>87.18 ± 53.72</td>\n      <td>919.53 ± 230.35</td>\n      <td>0.75 ± 0.19</td>\n      <td>307.74 ± 137.75</td>\n      <td>14.82 ± 6.05</td>\n      <td>0.69 ± 0.18</td>\n      <td>0.86 ± 0.35</td>\n      <td>nan ± nan</td>\n      <td>0.62 ± 0.19</td>\n      <td>0.09 ± 0.11</td>\n      <td>53.02 ± 19.52</td>\n      <td>0.09 ± 0.03</td>\n      <td>0.98 ± 0.68</td>\n    </tr>\n    <tr>\n      <th>1</th>\n      <td>comte</td>\n      <td>87.18 ± 53.72</td>\n      <td>166.86 ± 53.52</td>\n      <td>0.14 ± 0.04</td>\n      <td>78.53 ± 60.13</td>\n      <td>7.87 ± 4.78</td>\n      <td>0.73 ± 0.16</td>\n      <td>0.92 ± 0.27</td>\n      <td>nan ± nan</td>\n      <td>0.79 ± 0.33</td>\n      <td>0.24 ± 0.19</td>\n      <td>2.96 ± 0.82</td>\n      <td>0.0 ± 0.0</td>\n      <td>1458.82 ± 192.98</td>\n    </tr>\n    <tr>\n      <th>2</th>\n      <td>subspace_gknn_cch_mut07</td>\n      <td>87.18 ± 53.72</td>\n      <td>358.69 ± 150.2</td>\n      <td>0.29 ± 0.12</td>\n      <td>162.87 ± 121.65</td>\n      <td>10.75 ± 6.46</td>\n      <td>0.93 ± 0.06</td>\n      <td>1.0 ± 0.0</td>\n      <td>1.0 ± 0.0</td>\n      <td>0.57 ± 0.18</td>\n      <td>0.04 ± 0.04</td>\n      <td>23.64 ± 2.71</td>\n      <td>0.04 ± 0.0</td>\n      <td>34.17 ± 9.04</td>\n    </tr>\n    <tr>\n      <th>3</th>\n      <td>discox</td>\n      <td>87.18 ± 53.72</td>\n      <td>85.12 ± 24.58</td>\n      <td>0.07 ± 0.02</td>\n      <td>29.94 ± 24.86</td>\n      <td>6.2 ± 4.04</td>\n      <td>0.4 ± 0.09</td>\n      <td>0.17 ± 0.38</td>\n      <td>nan ± nan</td>\n      <td>0.71 ± 0.35</td>\n      <td>0.18 ± 0.17</td>\n      <td>52.06 ± 20.02</td>\n      <td>0.09 ± 0.03</td>\n      <td>1329.99 ± 261.59</td>\n    </tr>\n  </tbody>\n</table>\n</div>"
     },
     "metadata": {},
     "output_type": "display_data"
    },
    {
     "name": "stdout",
     "output_type": "stream",
     "text": [
      "UWaveGestureLibrary\n"
     ]
    },
    {
     "data": {
      "text/plain": "                    method             ii         nchanges     sparsity  \\\n0                     abcf  159.0 ± 87.23  406.99 ± 205.66  0.43 ± 0.22   \n1                    comte  159.0 ± 87.23  828.44 ± 171.39  0.88 ± 0.18   \n2  subspace_gknn_cch_mut07  159.0 ± 87.23  295.69 ± 157.79  0.31 ± 0.17   \n3                   discox  159.0 ± 87.23   216.92 ± 83.14  0.23 ± 0.09   \n\n                L1            L2        proba        valid nuns_valid  \\\n0  393.43 ± 196.33  23.39 ± 7.64  0.49 ± 0.16  0.93 ± 0.26  nan ± nan   \n1  707.25 ± 200.53  30.68 ± 6.67  0.97 ± 0.02    1.0 ± 0.0  nan ± nan   \n2  279.09 ± 144.05   18.9 ± 5.92  0.81 ± 0.12    1.0 ± 0.0  1.0 ± 0.0   \n3  185.59 ± 119.82  15.63 ± 7.48  0.33 ± 0.08  0.39 ± 0.49  nan ± nan   \n\n  outlier_score increase_outlier_score   subsequences subsequences %  \\\n0   0.72 ± 0.18             0.2 ± 0.16    6.33 ± 2.91    0.01 ± 0.01   \n1   0.45 ± 0.09            0.03 ± 0.06    1.07 ± 0.26      0.0 ± 0.0   \n2   0.58 ± 0.13            0.07 ± 0.07    5.39 ± 2.37    0.01 ± 0.01   \n3   0.72 ± 0.21            0.21 ± 0.19  29.08 ± 25.62    0.06 ± 0.05   \n\n               times  \n0         0.8 ± 0.69  \n1   1463.74 ± 194.95  \n2      57.33 ± 16.28  \n3  4901.37 ± 2014.46  ",
      "text/html": "<div>\n<style scoped>\n    .dataframe tbody tr th:only-of-type {\n        vertical-align: middle;\n    }\n\n    .dataframe tbody tr th {\n        vertical-align: top;\n    }\n\n    .dataframe thead th {\n        text-align: right;\n    }\n</style>\n<table border=\"1\" class=\"dataframe\">\n  <thead>\n    <tr style=\"text-align: right;\">\n      <th></th>\n      <th>method</th>\n      <th>ii</th>\n      <th>nchanges</th>\n      <th>sparsity</th>\n      <th>L1</th>\n      <th>L2</th>\n      <th>proba</th>\n      <th>valid</th>\n      <th>nuns_valid</th>\n      <th>outlier_score</th>\n      <th>increase_outlier_score</th>\n      <th>subsequences</th>\n      <th>subsequences %</th>\n      <th>times</th>\n    </tr>\n  </thead>\n  <tbody>\n    <tr>\n      <th>0</th>\n      <td>abcf</td>\n      <td>159.0 ± 87.23</td>\n      <td>406.99 ± 205.66</td>\n      <td>0.43 ± 0.22</td>\n      <td>393.43 ± 196.33</td>\n      <td>23.39 ± 7.64</td>\n      <td>0.49 ± 0.16</td>\n      <td>0.93 ± 0.26</td>\n      <td>nan ± nan</td>\n      <td>0.72 ± 0.18</td>\n      <td>0.2 ± 0.16</td>\n      <td>6.33 ± 2.91</td>\n      <td>0.01 ± 0.01</td>\n      <td>0.8 ± 0.69</td>\n    </tr>\n    <tr>\n      <th>1</th>\n      <td>comte</td>\n      <td>159.0 ± 87.23</td>\n      <td>828.44 ± 171.39</td>\n      <td>0.88 ± 0.18</td>\n      <td>707.25 ± 200.53</td>\n      <td>30.68 ± 6.67</td>\n      <td>0.97 ± 0.02</td>\n      <td>1.0 ± 0.0</td>\n      <td>nan ± nan</td>\n      <td>0.45 ± 0.09</td>\n      <td>0.03 ± 0.06</td>\n      <td>1.07 ± 0.26</td>\n      <td>0.0 ± 0.0</td>\n      <td>1463.74 ± 194.95</td>\n    </tr>\n    <tr>\n      <th>2</th>\n      <td>subspace_gknn_cch_mut07</td>\n      <td>159.0 ± 87.23</td>\n      <td>295.69 ± 157.79</td>\n      <td>0.31 ± 0.17</td>\n      <td>279.09 ± 144.05</td>\n      <td>18.9 ± 5.92</td>\n      <td>0.81 ± 0.12</td>\n      <td>1.0 ± 0.0</td>\n      <td>1.0 ± 0.0</td>\n      <td>0.58 ± 0.13</td>\n      <td>0.07 ± 0.07</td>\n      <td>5.39 ± 2.37</td>\n      <td>0.01 ± 0.01</td>\n      <td>57.33 ± 16.28</td>\n    </tr>\n    <tr>\n      <th>3</th>\n      <td>discox</td>\n      <td>159.0 ± 87.23</td>\n      <td>216.92 ± 83.14</td>\n      <td>0.23 ± 0.09</td>\n      <td>185.59 ± 119.82</td>\n      <td>15.63 ± 7.48</td>\n      <td>0.33 ± 0.08</td>\n      <td>0.39 ± 0.49</td>\n      <td>nan ± nan</td>\n      <td>0.72 ± 0.21</td>\n      <td>0.21 ± 0.19</td>\n      <td>29.08 ± 25.62</td>\n      <td>0.06 ± 0.05</td>\n      <td>4901.37 ± 2014.46</td>\n    </tr>\n  </tbody>\n</table>\n</div>"
     },
     "metadata": {},
     "output_type": "display_data"
    }
   ],
   "source": [
    "from IPython.display import display\n",
    "for dataset in DATASETS:\n",
    "    print(dataset)\n",
    "    display(mean_results_dict[dataset])"
   ]
  },
  {
   "cell_type": "code",
   "execution_count": 12,
   "outputs": [
    {
     "name": "stdout",
     "output_type": "stream",
     "text": [
      "BasicMotions\n"
     ]
    },
    {
     "data": {
      "text/plain": "                                nchanges              L2        valid  \\\nmethod                                                                  \nabcf                      328.78 ± 170.0    89.51 ± 67.4  0.68 ± 0.47   \ncomte                     287.42 ± 46.32  103.36 ± 60.47    1.0 ± 0.0   \ndiscox                     78.75 ± 25.19   68.75 ± 23.75    0.6 ± 0.5   \nsubspace_gknn_cch_mut07  270.98 ± 148.86    73.8 ± 57.13    1.0 ± 0.0   \n\n                        increase_outlier_score   subsequences            times  \nmethod                                                                          \nabcf                               0.03 ± 0.03   10.48 ± 6.38      0.81 ± 0.75  \ncomte                              0.14 ± 0.17     1.55 ± 0.6   1138.65 ± 9.95  \ndiscox                             0.19 ± 0.11  25.88 ± 18.02  470.68 ± 151.86  \nsubspace_gknn_cch_mut07            0.01 ± 0.02    8.75 ± 3.72     35.89 ± 9.73  ",
      "text/html": "<div>\n<style scoped>\n    .dataframe tbody tr th:only-of-type {\n        vertical-align: middle;\n    }\n\n    .dataframe tbody tr th {\n        vertical-align: top;\n    }\n\n    .dataframe thead th {\n        text-align: right;\n    }\n</style>\n<table border=\"1\" class=\"dataframe\">\n  <thead>\n    <tr style=\"text-align: right;\">\n      <th></th>\n      <th>nchanges</th>\n      <th>L2</th>\n      <th>valid</th>\n      <th>increase_outlier_score</th>\n      <th>subsequences</th>\n      <th>times</th>\n    </tr>\n    <tr>\n      <th>method</th>\n      <th></th>\n      <th></th>\n      <th></th>\n      <th></th>\n      <th></th>\n      <th></th>\n    </tr>\n  </thead>\n  <tbody>\n    <tr>\n      <th>abcf</th>\n      <td>328.78 ± 170.0</td>\n      <td>89.51 ± 67.4</td>\n      <td>0.68 ± 0.47</td>\n      <td>0.03 ± 0.03</td>\n      <td>10.48 ± 6.38</td>\n      <td>0.81 ± 0.75</td>\n    </tr>\n    <tr>\n      <th>comte</th>\n      <td>287.42 ± 46.32</td>\n      <td>103.36 ± 60.47</td>\n      <td>1.0 ± 0.0</td>\n      <td>0.14 ± 0.17</td>\n      <td>1.55 ± 0.6</td>\n      <td>1138.65 ± 9.95</td>\n    </tr>\n    <tr>\n      <th>discox</th>\n      <td>78.75 ± 25.19</td>\n      <td>68.75 ± 23.75</td>\n      <td>0.6 ± 0.5</td>\n      <td>0.19 ± 0.11</td>\n      <td>25.88 ± 18.02</td>\n      <td>470.68 ± 151.86</td>\n    </tr>\n    <tr>\n      <th>subspace_gknn_cch_mut07</th>\n      <td>270.98 ± 148.86</td>\n      <td>73.8 ± 57.13</td>\n      <td>1.0 ± 0.0</td>\n      <td>0.01 ± 0.02</td>\n      <td>8.75 ± 3.72</td>\n      <td>35.89 ± 9.73</td>\n    </tr>\n  </tbody>\n</table>\n</div>"
     },
     "metadata": {},
     "output_type": "display_data"
    },
    {
     "name": "stdout",
     "output_type": "stream",
     "text": [
      "NATOPS\n"
     ]
    },
    {
     "data": {
      "text/plain": "                                nchanges            L2        valid  \\\nmethod                                                                \nabcf                     919.53 ± 230.35  14.82 ± 6.05  0.86 ± 0.35   \ncomte                     166.86 ± 53.52   7.87 ± 4.78  0.92 ± 0.27   \ndiscox                     85.12 ± 24.58    6.2 ± 4.04  0.17 ± 0.38   \nsubspace_gknn_cch_mut07   358.69 ± 150.2  10.75 ± 6.46    1.0 ± 0.0   \n\n                        increase_outlier_score   subsequences  \\\nmethod                                                          \nabcf                               0.09 ± 0.11  53.02 ± 19.52   \ncomte                              0.24 ± 0.19    2.96 ± 0.82   \ndiscox                             0.18 ± 0.17  52.06 ± 20.02   \nsubspace_gknn_cch_mut07            0.04 ± 0.04   23.64 ± 2.71   \n\n                                    times  \nmethod                                     \nabcf                          0.98 ± 0.68  \ncomte                    1458.82 ± 192.98  \ndiscox                   1329.99 ± 261.59  \nsubspace_gknn_cch_mut07      34.17 ± 9.04  ",
      "text/html": "<div>\n<style scoped>\n    .dataframe tbody tr th:only-of-type {\n        vertical-align: middle;\n    }\n\n    .dataframe tbody tr th {\n        vertical-align: top;\n    }\n\n    .dataframe thead th {\n        text-align: right;\n    }\n</style>\n<table border=\"1\" class=\"dataframe\">\n  <thead>\n    <tr style=\"text-align: right;\">\n      <th></th>\n      <th>nchanges</th>\n      <th>L2</th>\n      <th>valid</th>\n      <th>increase_outlier_score</th>\n      <th>subsequences</th>\n      <th>times</th>\n    </tr>\n    <tr>\n      <th>method</th>\n      <th></th>\n      <th></th>\n      <th></th>\n      <th></th>\n      <th></th>\n      <th></th>\n    </tr>\n  </thead>\n  <tbody>\n    <tr>\n      <th>abcf</th>\n      <td>919.53 ± 230.35</td>\n      <td>14.82 ± 6.05</td>\n      <td>0.86 ± 0.35</td>\n      <td>0.09 ± 0.11</td>\n      <td>53.02 ± 19.52</td>\n      <td>0.98 ± 0.68</td>\n    </tr>\n    <tr>\n      <th>comte</th>\n      <td>166.86 ± 53.52</td>\n      <td>7.87 ± 4.78</td>\n      <td>0.92 ± 0.27</td>\n      <td>0.24 ± 0.19</td>\n      <td>2.96 ± 0.82</td>\n      <td>1458.82 ± 192.98</td>\n    </tr>\n    <tr>\n      <th>discox</th>\n      <td>85.12 ± 24.58</td>\n      <td>6.2 ± 4.04</td>\n      <td>0.17 ± 0.38</td>\n      <td>0.18 ± 0.17</td>\n      <td>52.06 ± 20.02</td>\n      <td>1329.99 ± 261.59</td>\n    </tr>\n    <tr>\n      <th>subspace_gknn_cch_mut07</th>\n      <td>358.69 ± 150.2</td>\n      <td>10.75 ± 6.46</td>\n      <td>1.0 ± 0.0</td>\n      <td>0.04 ± 0.04</td>\n      <td>23.64 ± 2.71</td>\n      <td>34.17 ± 9.04</td>\n    </tr>\n  </tbody>\n</table>\n</div>"
     },
     "metadata": {},
     "output_type": "display_data"
    },
    {
     "name": "stdout",
     "output_type": "stream",
     "text": [
      "UWaveGestureLibrary\n"
     ]
    },
    {
     "data": {
      "text/plain": "                                nchanges            L2        valid  \\\nmethod                                                                \nabcf                     406.99 ± 205.66  23.39 ± 7.64  0.93 ± 0.26   \ncomte                    828.44 ± 171.39  30.68 ± 6.67    1.0 ± 0.0   \ndiscox                    216.92 ± 83.14  15.63 ± 7.48  0.39 ± 0.49   \nsubspace_gknn_cch_mut07  295.69 ± 157.79   18.9 ± 5.92    1.0 ± 0.0   \n\n                        increase_outlier_score   subsequences  \\\nmethod                                                          \nabcf                                0.2 ± 0.16    6.33 ± 2.91   \ncomte                              0.03 ± 0.06    1.07 ± 0.26   \ndiscox                             0.21 ± 0.19  29.08 ± 25.62   \nsubspace_gknn_cch_mut07            0.07 ± 0.07    5.39 ± 2.37   \n\n                                     times  \nmethod                                      \nabcf                            0.8 ± 0.69  \ncomte                     1463.74 ± 194.95  \ndiscox                   4901.37 ± 2014.46  \nsubspace_gknn_cch_mut07      57.33 ± 16.28  ",
      "text/html": "<div>\n<style scoped>\n    .dataframe tbody tr th:only-of-type {\n        vertical-align: middle;\n    }\n\n    .dataframe tbody tr th {\n        vertical-align: top;\n    }\n\n    .dataframe thead th {\n        text-align: right;\n    }\n</style>\n<table border=\"1\" class=\"dataframe\">\n  <thead>\n    <tr style=\"text-align: right;\">\n      <th></th>\n      <th>nchanges</th>\n      <th>L2</th>\n      <th>valid</th>\n      <th>increase_outlier_score</th>\n      <th>subsequences</th>\n      <th>times</th>\n    </tr>\n    <tr>\n      <th>method</th>\n      <th></th>\n      <th></th>\n      <th></th>\n      <th></th>\n      <th></th>\n      <th></th>\n    </tr>\n  </thead>\n  <tbody>\n    <tr>\n      <th>abcf</th>\n      <td>406.99 ± 205.66</td>\n      <td>23.39 ± 7.64</td>\n      <td>0.93 ± 0.26</td>\n      <td>0.2 ± 0.16</td>\n      <td>6.33 ± 2.91</td>\n      <td>0.8 ± 0.69</td>\n    </tr>\n    <tr>\n      <th>comte</th>\n      <td>828.44 ± 171.39</td>\n      <td>30.68 ± 6.67</td>\n      <td>1.0 ± 0.0</td>\n      <td>0.03 ± 0.06</td>\n      <td>1.07 ± 0.26</td>\n      <td>1463.74 ± 194.95</td>\n    </tr>\n    <tr>\n      <th>discox</th>\n      <td>216.92 ± 83.14</td>\n      <td>15.63 ± 7.48</td>\n      <td>0.39 ± 0.49</td>\n      <td>0.21 ± 0.19</td>\n      <td>29.08 ± 25.62</td>\n      <td>4901.37 ± 2014.46</td>\n    </tr>\n    <tr>\n      <th>subspace_gknn_cch_mut07</th>\n      <td>295.69 ± 157.79</td>\n      <td>18.9 ± 5.92</td>\n      <td>1.0 ± 0.0</td>\n      <td>0.07 ± 0.07</td>\n      <td>5.39 ± 2.37</td>\n      <td>57.33 ± 16.28</td>\n    </tr>\n  </tbody>\n</table>\n</div>"
     },
     "metadata": {},
     "output_type": "display_data"
    }
   ],
   "source": [
    "columns = [\"nchanges\", \"L2\", \"valid\", \"increase_outlier_score\", \"subsequences\", \"times\"]\n",
    "for dataset in DATASETS:\n",
    "    print(dataset)\n",
    "    display(mean_results_dict[dataset].set_index(\"method\").sort_index()[columns])"
   ],
   "metadata": {
    "collapsed": false,
    "ExecuteTime": {
     "end_time": "2024-09-20T18:24:02.834779200Z",
     "start_time": "2024-09-20T18:24:02.709695700Z"
    }
   }
  },
  {
   "cell_type": "code",
   "execution_count": 6,
   "metadata": {
    "collapsed": false,
    "ExecuteTime": {
     "end_time": "2024-07-01T18:43:48.285004500Z",
     "start_time": "2024-07-01T18:43:48.144307100Z"
    }
   },
   "outputs": [],
   "source": []
  },
  {
   "cell_type": "code",
   "execution_count": 6,
   "outputs": [],
   "source": [],
   "metadata": {
    "collapsed": false,
    "ExecuteTime": {
     "end_time": "2024-07-01T18:43:48.285004500Z",
     "start_time": "2024-07-01T18:43:48.159961600Z"
    }
   }
  },
  {
   "cell_type": "markdown",
   "metadata": {},
   "source": [
    "# Counterfactual visualization"
   ]
  },
  {
   "cell_type": "code",
   "execution_count": 10,
   "metadata": {
    "ExecuteTime": {
     "end_time": "2024-09-16T11:33:45.989946Z",
     "start_time": "2024-09-16T11:33:45.958746400Z"
    }
   },
   "outputs": [],
   "source": [
    "import math\n",
    "def plot_comp_cfs(x_orig, possible_nuns, x_cfs_dict):\n",
    "    \n",
    "    # Calculate auxiliary variables\n",
    "    method_names = list(x_cfs_dict.keys())\n",
    "    x_cfs = list(x_cfs_dict.values())\n",
    "    length = x_orig.shape[0]\n",
    "    n_channels = x_orig.shape[1]\n",
    "\n",
    "    # Define outer grid\n",
    "    fig = plt.figure(figsize=(22, 16))\n",
    "    grid_columns = 2\n",
    "    grid_rows = math.ceil(len(x_cfs) / grid_columns)\n",
    "    outer_grid = gridspec.GridSpec(grid_rows, grid_columns, wspace=0.1, hspace=0.3)\n",
    "\n",
    "    # Iterate through outer grid plots\n",
    "    for m, outer in enumerate(outer_grid):\n",
    "        try:\n",
    "            # Get change mask \n",
    "            x_cf = x_cfs[m]\n",
    "            method_name = method_names[m]\n",
    "            # Get nuns used by the method depending on the name\n",
    "            if \"gknn\" in method_name:\n",
    "                nun_example = possible_nuns[\"gknn\"]\n",
    "            elif \"iknn\" in method_name:\n",
    "                nun_example = possible_nuns[\"iknn\"]\n",
    "            else:\n",
    "                raise ValueError('Not detected NUN finding procedure in name. Method name must contain \"gknn\" or \"iknn\"')\n",
    "            found_counterfactual_mask = (x_orig != x_cf.reshape(1, length, n_channels)).astype(int)\n",
    "            diff_mask = np.diff(found_counterfactual_mask, prepend=0, append=0, axis=1)\n",
    "        except IndexError:\n",
    "            break\n",
    "    \n",
    "        # Create inner grid\n",
    "        inner_grid = gridspec.GridSpecFromSubplotSpec(n_channels, 1, wspace=0.2, hspace=0.2, subplot_spec=outer)\n",
    "        sub_channel_axs = []\n",
    "        for i in range(n_channels):\n",
    "            ax = plt.Subplot(fig, inner_grid[i])\n",
    "            ax.plot(nun_example.reshape(1, length, n_channels)[:, :, i].flatten(), color='grey')\n",
    "            ax.plot(x_cf.reshape(1, length, n_channels)[:, :, i].flatten(), color='red')\n",
    "            ax.plot(x_orig.reshape(1, length, n_channels)[:, :, i].flatten(), color=\"#332288\")\n",
    "            # Set title if first channel\n",
    "            if i == 0:\n",
    "                ax.set_title(method_name)\n",
    "            \n",
    "            # Add fill to changes\n",
    "            starts = np.clip( np.where(diff_mask[0, :, i].flatten() == 1)[0] - 1 , 0, length)\n",
    "            ends = np.where(diff_mask[0, :, i].flatten() == -1)[0]\n",
    "            # Iterate over the mask segments and fill them with red color\n",
    "            for i in range(0, len(starts)):\n",
    "                start_idx = starts[i]\n",
    "                end_idx = ends[i]\n",
    "                # plt.fill_between(comp_df.iloc[start_idx:end_idx].index, comp_df.min(), comp_df.max(), color='red', alpha=0.7)\n",
    "                ax.axvspan(start_idx, end_idx, alpha=0.2, color='red')\n",
    "            \n",
    "            # Add ax to list of subplots\n",
    "            fig.add_subplot(ax)\n",
    "            sub_channel_axs.append(ax)\n",
    "\n",
    "    # Plot figure\n",
    "    fig.legend(\n",
    "        sub_channel_axs,     # The line objects\n",
    "        labels=['NUN', 'x_cf', 'x_orig'],   # The labels for each line\n",
    "        loc='center',\n",
    "        prop={'size': 12}\n",
    "    )\n",
    "    plt.show()\n",
    "\n"
   ]
  },
  {
   "cell_type": "code",
   "execution_count": 11,
   "outputs": [
    {
     "data": {
      "text/plain": "     ii  nchanges  sparsity          L1         L2     proba  valid  \\\n0     3     630.0  0.666667  849.672028  40.468249  0.994502   True   \n1    13     945.0  1.000000  701.469408  29.498525  0.986486   True   \n2    14     630.0  0.666667  534.941475  27.801814  0.981622   True   \n3    15     945.0  1.000000  753.060521  31.011630  0.989560   True   \n4    19     630.0  0.666667  546.554781  26.437987  0.989558   True   \n..  ...       ...       ...         ...        ...       ...    ...   \n95  300     158.0  0.167196  144.647351  12.668673  0.772654   True   \n96  302      84.0  0.088889   82.245441   9.598369  0.449715   True   \n97  303      43.0  0.045503   38.132580   6.282867  0.620453   True   \n98  314     570.0  0.603175  556.326838  27.585234  0.814680   True   \n99  318      90.0  0.095238   64.865204   8.459335  0.546384   True   \n\n   nuns_valid  outlier_score  increase_outlier_score  subsequences  \\\n0         NaN       0.357573                0.000000           1.0   \n1         NaN       0.394286                0.000000           1.0   \n2         NaN       0.429190                0.000000           1.0   \n3         NaN       0.375455                0.000000           1.0   \n4         NaN       0.478830                0.000000           1.0   \n..        ...            ...                     ...           ...   \n95        1.0       0.487605                0.041953           3.0   \n96        1.0       0.591355                0.123180           5.0   \n97        1.0       0.525460                0.036501           2.0   \n98        1.0       0.667473                0.013069           6.0   \n99        1.0       0.590559                0.025008           3.0   \n\n    subsequences %        times                   method  order  \\\n0         0.002116  1291.526145                    comte      1   \n1         0.002116  1301.269161                    comte      1   \n2         0.002116  1301.799412                    comte      1   \n3         0.002116  1309.426037                    comte      1   \n4         0.002116  1316.859315                    comte      1   \n..             ...          ...                      ...    ...   \n95        0.006349    48.047095  subspace_gknn_cch_mut07      2   \n96        0.010582    44.687890  subspace_gknn_cch_mut07      2   \n97        0.004233    43.703472  subspace_gknn_cch_mut07      2   \n98        0.012698    83.094417  subspace_gknn_cch_mut07      2   \n99        0.006349    39.797325  subspace_gknn_cch_mut07      2   \n\n                dataset  \n0   UWaveGestureLibrary  \n1   UWaveGestureLibrary  \n2   UWaveGestureLibrary  \n3   UWaveGestureLibrary  \n4   UWaveGestureLibrary  \n..                  ...  \n95  UWaveGestureLibrary  \n96  UWaveGestureLibrary  \n97  UWaveGestureLibrary  \n98  UWaveGestureLibrary  \n99  UWaveGestureLibrary  \n\n[200 rows x 16 columns]",
      "text/html": "<div>\n<style scoped>\n    .dataframe tbody tr th:only-of-type {\n        vertical-align: middle;\n    }\n\n    .dataframe tbody tr th {\n        vertical-align: top;\n    }\n\n    .dataframe thead th {\n        text-align: right;\n    }\n</style>\n<table border=\"1\" class=\"dataframe\">\n  <thead>\n    <tr style=\"text-align: right;\">\n      <th></th>\n      <th>ii</th>\n      <th>nchanges</th>\n      <th>sparsity</th>\n      <th>L1</th>\n      <th>L2</th>\n      <th>proba</th>\n      <th>valid</th>\n      <th>nuns_valid</th>\n      <th>outlier_score</th>\n      <th>increase_outlier_score</th>\n      <th>subsequences</th>\n      <th>subsequences %</th>\n      <th>times</th>\n      <th>method</th>\n      <th>order</th>\n      <th>dataset</th>\n    </tr>\n  </thead>\n  <tbody>\n    <tr>\n      <th>0</th>\n      <td>3</td>\n      <td>630.0</td>\n      <td>0.666667</td>\n      <td>849.672028</td>\n      <td>40.468249</td>\n      <td>0.994502</td>\n      <td>True</td>\n      <td>NaN</td>\n      <td>0.357573</td>\n      <td>0.000000</td>\n      <td>1.0</td>\n      <td>0.002116</td>\n      <td>1291.526145</td>\n      <td>comte</td>\n      <td>1</td>\n      <td>UWaveGestureLibrary</td>\n    </tr>\n    <tr>\n      <th>1</th>\n      <td>13</td>\n      <td>945.0</td>\n      <td>1.000000</td>\n      <td>701.469408</td>\n      <td>29.498525</td>\n      <td>0.986486</td>\n      <td>True</td>\n      <td>NaN</td>\n      <td>0.394286</td>\n      <td>0.000000</td>\n      <td>1.0</td>\n      <td>0.002116</td>\n      <td>1301.269161</td>\n      <td>comte</td>\n      <td>1</td>\n      <td>UWaveGestureLibrary</td>\n    </tr>\n    <tr>\n      <th>2</th>\n      <td>14</td>\n      <td>630.0</td>\n      <td>0.666667</td>\n      <td>534.941475</td>\n      <td>27.801814</td>\n      <td>0.981622</td>\n      <td>True</td>\n      <td>NaN</td>\n      <td>0.429190</td>\n      <td>0.000000</td>\n      <td>1.0</td>\n      <td>0.002116</td>\n      <td>1301.799412</td>\n      <td>comte</td>\n      <td>1</td>\n      <td>UWaveGestureLibrary</td>\n    </tr>\n    <tr>\n      <th>3</th>\n      <td>15</td>\n      <td>945.0</td>\n      <td>1.000000</td>\n      <td>753.060521</td>\n      <td>31.011630</td>\n      <td>0.989560</td>\n      <td>True</td>\n      <td>NaN</td>\n      <td>0.375455</td>\n      <td>0.000000</td>\n      <td>1.0</td>\n      <td>0.002116</td>\n      <td>1309.426037</td>\n      <td>comte</td>\n      <td>1</td>\n      <td>UWaveGestureLibrary</td>\n    </tr>\n    <tr>\n      <th>4</th>\n      <td>19</td>\n      <td>630.0</td>\n      <td>0.666667</td>\n      <td>546.554781</td>\n      <td>26.437987</td>\n      <td>0.989558</td>\n      <td>True</td>\n      <td>NaN</td>\n      <td>0.478830</td>\n      <td>0.000000</td>\n      <td>1.0</td>\n      <td>0.002116</td>\n      <td>1316.859315</td>\n      <td>comte</td>\n      <td>1</td>\n      <td>UWaveGestureLibrary</td>\n    </tr>\n    <tr>\n      <th>...</th>\n      <td>...</td>\n      <td>...</td>\n      <td>...</td>\n      <td>...</td>\n      <td>...</td>\n      <td>...</td>\n      <td>...</td>\n      <td>...</td>\n      <td>...</td>\n      <td>...</td>\n      <td>...</td>\n      <td>...</td>\n      <td>...</td>\n      <td>...</td>\n      <td>...</td>\n      <td>...</td>\n    </tr>\n    <tr>\n      <th>95</th>\n      <td>300</td>\n      <td>158.0</td>\n      <td>0.167196</td>\n      <td>144.647351</td>\n      <td>12.668673</td>\n      <td>0.772654</td>\n      <td>True</td>\n      <td>1.0</td>\n      <td>0.487605</td>\n      <td>0.041953</td>\n      <td>3.0</td>\n      <td>0.006349</td>\n      <td>48.047095</td>\n      <td>subspace_gknn_cch_mut07</td>\n      <td>2</td>\n      <td>UWaveGestureLibrary</td>\n    </tr>\n    <tr>\n      <th>96</th>\n      <td>302</td>\n      <td>84.0</td>\n      <td>0.088889</td>\n      <td>82.245441</td>\n      <td>9.598369</td>\n      <td>0.449715</td>\n      <td>True</td>\n      <td>1.0</td>\n      <td>0.591355</td>\n      <td>0.123180</td>\n      <td>5.0</td>\n      <td>0.010582</td>\n      <td>44.687890</td>\n      <td>subspace_gknn_cch_mut07</td>\n      <td>2</td>\n      <td>UWaveGestureLibrary</td>\n    </tr>\n    <tr>\n      <th>97</th>\n      <td>303</td>\n      <td>43.0</td>\n      <td>0.045503</td>\n      <td>38.132580</td>\n      <td>6.282867</td>\n      <td>0.620453</td>\n      <td>True</td>\n      <td>1.0</td>\n      <td>0.525460</td>\n      <td>0.036501</td>\n      <td>2.0</td>\n      <td>0.004233</td>\n      <td>43.703472</td>\n      <td>subspace_gknn_cch_mut07</td>\n      <td>2</td>\n      <td>UWaveGestureLibrary</td>\n    </tr>\n    <tr>\n      <th>98</th>\n      <td>314</td>\n      <td>570.0</td>\n      <td>0.603175</td>\n      <td>556.326838</td>\n      <td>27.585234</td>\n      <td>0.814680</td>\n      <td>True</td>\n      <td>1.0</td>\n      <td>0.667473</td>\n      <td>0.013069</td>\n      <td>6.0</td>\n      <td>0.012698</td>\n      <td>83.094417</td>\n      <td>subspace_gknn_cch_mut07</td>\n      <td>2</td>\n      <td>UWaveGestureLibrary</td>\n    </tr>\n    <tr>\n      <th>99</th>\n      <td>318</td>\n      <td>90.0</td>\n      <td>0.095238</td>\n      <td>64.865204</td>\n      <td>8.459335</td>\n      <td>0.546384</td>\n      <td>True</td>\n      <td>1.0</td>\n      <td>0.590559</td>\n      <td>0.025008</td>\n      <td>3.0</td>\n      <td>0.006349</td>\n      <td>39.797325</td>\n      <td>subspace_gknn_cch_mut07</td>\n      <td>2</td>\n      <td>UWaveGestureLibrary</td>\n    </tr>\n  </tbody>\n</table>\n<p>200 rows × 16 columns</p>\n</div>"
     },
     "execution_count": 11,
     "metadata": {},
     "output_type": "execute_result"
    }
   ],
   "source": [
    "dataset = \"UWaveGestureLibrary\"\n",
    "results_all_datasets_df[results_all_datasets_df[\"dataset\"]==dataset]"
   ],
   "metadata": {
    "collapsed": false,
    "ExecuteTime": {
     "end_time": "2024-09-16T11:33:46.989875500Z",
     "start_time": "2024-09-16T11:33:46.958739600Z"
    }
   }
  },
  {
   "cell_type": "code",
   "execution_count": 12,
   "outputs": [],
   "source": [
    "# methods = [\"subspace_grouped\", \"subspace_v2_grouped\", \"subspace_individual\", \"subspace_v2_individual\"]\n",
    "common_index_instance = 13"
   ],
   "metadata": {
    "collapsed": false,
    "ExecuteTime": {
     "end_time": "2024-09-16T11:33:47.802447100Z",
     "start_time": "2024-09-16T11:33:47.786816500Z"
    }
   }
  },
  {
   "cell_type": "code",
   "execution_count": 13,
   "metadata": {
    "ExecuteTime": {
     "end_time": "2024-09-16T11:33:50.476445600Z",
     "start_time": "2024-09-16T11:33:48.802455900Z"
    }
   },
   "outputs": [
    {
     "name": "stdout",
     "output_type": "stream",
     "text": [
      "Sample 51: true class 1, x_orig predicted 1, desired_class  6\n"
     ]
    },
    {
     "ename": "ValueError",
     "evalue": "Not detected NUN finding procedure in name. Method name must contain \"gknn\" or \"iknn\"",
     "output_type": "error",
     "traceback": [
      "\u001B[1;31m---------------------------------------------------------------------------\u001B[0m",
      "\u001B[1;31mValueError\u001B[0m                                Traceback (most recent call last)",
      "Cell \u001B[1;32mIn[13], line 23\u001B[0m\n\u001B[0;32m     21\u001B[0m \u001B[38;5;66;03m# Show result\u001B[39;00m\n\u001B[0;32m     22\u001B[0m \u001B[38;5;28mprint\u001B[39m(\u001B[38;5;124mf\u001B[39m\u001B[38;5;124m'\u001B[39m\u001B[38;5;124mSample \u001B[39m\u001B[38;5;132;01m{\u001B[39;00minstance_index\u001B[38;5;132;01m}\u001B[39;00m\u001B[38;5;124m: true class \u001B[39m\u001B[38;5;132;01m{\u001B[39;00my_test[instance_index]\u001B[38;5;132;01m}\u001B[39;00m\u001B[38;5;124m, x_orig predicted \u001B[39m\u001B[38;5;132;01m{\u001B[39;00moriginal_class\u001B[38;5;132;01m}\u001B[39;00m\u001B[38;5;124m, desired_class  \u001B[39m\u001B[38;5;132;01m{\u001B[39;00mdesired_class\u001B[38;5;132;01m}\u001B[39;00m\u001B[38;5;124m'\u001B[39m)\n\u001B[1;32m---> 23\u001B[0m \u001B[43mplot_comp_cfs\u001B[49m\u001B[43m(\u001B[49m\u001B[43mx_orig\u001B[49m\u001B[43m,\u001B[49m\u001B[43m \u001B[49m\u001B[43mpossible_nuns_instance\u001B[49m\u001B[43m,\u001B[49m\u001B[43m \u001B[49m\u001B[43msol_cfs_methods\u001B[49m\u001B[43m)\u001B[49m\n",
      "Cell \u001B[1;32mIn[10], line 28\u001B[0m, in \u001B[0;36mplot_comp_cfs\u001B[1;34m(x_orig, possible_nuns, x_cfs_dict)\u001B[0m\n\u001B[0;32m     26\u001B[0m     nun_example \u001B[38;5;241m=\u001B[39m possible_nuns[\u001B[38;5;124m\"\u001B[39m\u001B[38;5;124miknn\u001B[39m\u001B[38;5;124m\"\u001B[39m]\n\u001B[0;32m     27\u001B[0m \u001B[38;5;28;01melse\u001B[39;00m:\n\u001B[1;32m---> 28\u001B[0m     \u001B[38;5;28;01mraise\u001B[39;00m \u001B[38;5;167;01mValueError\u001B[39;00m(\u001B[38;5;124m'\u001B[39m\u001B[38;5;124mNot detected NUN finding procedure in name. Method name must contain \u001B[39m\u001B[38;5;124m\"\u001B[39m\u001B[38;5;124mgknn\u001B[39m\u001B[38;5;124m\"\u001B[39m\u001B[38;5;124m or \u001B[39m\u001B[38;5;124m\"\u001B[39m\u001B[38;5;124miknn\u001B[39m\u001B[38;5;124m\"\u001B[39m\u001B[38;5;124m'\u001B[39m)\n\u001B[0;32m     29\u001B[0m found_counterfactual_mask \u001B[38;5;241m=\u001B[39m (x_orig \u001B[38;5;241m!=\u001B[39m x_cf\u001B[38;5;241m.\u001B[39mreshape(\u001B[38;5;241m1\u001B[39m, length, n_channels))\u001B[38;5;241m.\u001B[39mastype(\u001B[38;5;28mint\u001B[39m)\n\u001B[0;32m     30\u001B[0m diff_mask \u001B[38;5;241m=\u001B[39m np\u001B[38;5;241m.\u001B[39mdiff(found_counterfactual_mask, prepend\u001B[38;5;241m=\u001B[39m\u001B[38;5;241m0\u001B[39m, append\u001B[38;5;241m=\u001B[39m\u001B[38;5;241m0\u001B[39m, axis\u001B[38;5;241m=\u001B[39m\u001B[38;5;241m1\u001B[39m)\n",
      "\u001B[1;31mValueError\u001B[0m: Not detected NUN finding procedure in name. Method name must contain \"gknn\" or \"iknn\""
     ]
    },
    {
     "data": {
      "text/plain": "<Figure size 2200x1600 with 0 Axes>"
     },
     "metadata": {},
     "output_type": "display_data"
    }
   ],
   "source": [
    "# Get data\n",
    "X_train, y_train, X_test, y_test = data_dict[dataset]\n",
    "common_indexes = common_test_indexes_dict[dataset]\n",
    "instance_index = common_indexes[common_index_instance]\n",
    "\n",
    "# Get common cfs calculated for all method\n",
    "x_orig = X_test[instance_index]\n",
    "\n",
    "# Get possible NUNs\n",
    "possible_nuns = possible_nuns_dict[dataset]\n",
    "possible_nuns_instance = {type: possible_nuns[type][instance_index] for type in [\"gknn\", \"iknn\"]}\n",
    "\n",
    "# Get original class and desired class\n",
    "original_class = original_classes_dict[dataset][instance_index]\n",
    "desired_class = desired_classes_dict[dataset][instance_index]\n",
    "\n",
    "# Get the cf calculated for all methods\n",
    "sol_cfs_methods = methods_cfs_dict[dataset]\n",
    "sol_cfs_methods = {method: sol_cfs[common_index_instance]['cf'] for method, sol_cfs in sol_cfs_methods.items()}\n",
    "\n",
    "# Show result\n",
    "print(f'Sample {instance_index}: true class {y_test[instance_index]}, x_orig predicted {original_class}, desired_class  {desired_class}')\n",
    "plot_comp_cfs(x_orig, possible_nuns_instance, sol_cfs_methods)\n"
   ]
  },
  {
   "cell_type": "code",
   "execution_count": 13,
   "metadata": {
    "ExecuteTime": {
     "end_time": "2024-06-13T15:00:21.057506500Z",
     "start_time": "2024-06-13T15:00:20.807476400Z"
    }
   },
   "outputs": [],
   "source": []
  },
  {
   "cell_type": "code",
   "execution_count": null,
   "metadata": {},
   "outputs": [],
   "source": []
  },
  {
   "cell_type": "code",
   "execution_count": null,
   "outputs": [],
   "source": [],
   "metadata": {
    "collapsed": false
   }
  },
  {
   "cell_type": "code",
   "execution_count": null,
   "outputs": [],
   "source": [],
   "metadata": {
    "collapsed": false
   }
  },
  {
   "cell_type": "code",
   "execution_count": null,
   "metadata": {},
   "outputs": [],
   "source": [
    "# Create plot with examples of each method in each dataset"
   ]
  },
  {
   "cell_type": "code",
   "execution_count": null,
   "metadata": {},
   "outputs": [],
   "source": [
    "# CBF: 1, 2, 10, 18, 19\n",
    "# chinatown: 3, 7, 19\n",
    "# coffee: 1, 3, 9, 16\n",
    "# ECG200: 0, 13\n",
    "# gunpoint: 9, 10, 15 (pesimos en general)\n",
    "dataset_samples = [('CBF', 2), ('chinatown', 19), ('coffee', 3), ('ECG200', 13), ('gunpoint', 15)]\n",
    "methods_trad_dict = {\"wcf_ng\": \"W-CF\", \"ng\": \"NG\", \"ab_cf\": \"AB-CF\", \"subspace\": \"Sub-SpaCE\"}\n",
    "methods = list(methods_trad_dict.keys())\n",
    "include_nun_list = [False, False, False, False]"
   ]
  },
  {
   "cell_type": "code",
   "execution_count": null,
   "metadata": {},
   "outputs": [],
   "source": [
    "from collections import OrderedDict\n",
    "\n",
    "# Define outer grid\n",
    "fig = plt.figure(figsize=(16, 6))\n",
    "grid_rows = len(methods)\n",
    "grid_columns = len(dataset_samples)\n",
    "outer_grid = gridspec.GridSpec(grid_rows, grid_columns, wspace=0, hspace=0)\n",
    "\n",
    "# Iterate through outer grid plots\n",
    "for i_outer, outer in enumerate(outer_grid):\n",
    "    i_dataset = i_outer % grid_columns\n",
    "    dataset, instance = dataset_samples[i_dataset]\n",
    "    column_title = f'{dataset} instance {instance}'\n",
    "    \n",
    "    X_train, y_train, X_test, y_test = data_dict[dataset]\n",
    "    nuns_idx = nuns_idx_dict[dataset]\n",
    "    sol_cfs_methods = sol_cfs_dict[dataset]\n",
    "    sol_cfs_methods = {method: sol_cfs_methods[method][instance]['cf'] for method in methods}\n",
    "\n",
    "    # Calculate auxiliary variables\n",
    "    method_names = list(sol_cfs_methods.keys())\n",
    "    x_cfs = list(sol_cfs_methods.values())\n",
    "    x_orig = X_test[instance]\n",
    "    nun_example = X_train[nuns_idx[instance]]\n",
    "    length = x_orig.shape[0]\n",
    "    n_channels = x_orig.shape[1]\n",
    "\n",
    "    # get method m\n",
    "    m = i_outer // grid_columns\n",
    "    try:\n",
    "        # Get change mask \n",
    "        x_cf = x_cfs[m]\n",
    "        method_name = method_names[m]\n",
    "        found_counterfactual_mask = (x_orig != x_cf.reshape(1, length, n_channels)).astype(int)\n",
    "        diff_mask = np.diff(found_counterfactual_mask, prepend=0, append=0, axis=1)\n",
    "    except IndexError:\n",
    "        break\n",
    "\n",
    "    # Create inner grid\n",
    "    inner_grid = gridspec.GridSpecFromSubplotSpec(n_channels, 1, wspace=0, hspace=0, subplot_spec=outer)\n",
    "    sub_channel_axs = []\n",
    "    for i in range(n_channels):\n",
    "        ax = plt.Subplot(fig, inner_grid[i])\n",
    "        if include_nun_list[m]:\n",
    "            ax.plot(nun_example.reshape(1, length, n_channels)[:, :, i].flatten(), color='grey')\n",
    "        ax.plot(x_cf.reshape(1, length, n_channels)[:, :, i].flatten(), color='red')\n",
    "        ax.plot(x_orig.reshape(1, length, n_channels)[:, :, i].flatten(), color=\"#332288\")\n",
    "        # ax.axis(\"off\")\n",
    "        ax.set_xticks([])\n",
    "        ax.set_yticks([])\n",
    "        \n",
    "        # Add fill to changes\n",
    "        starts = np.clip( np.where(diff_mask[0, :, i].flatten() == 1)[0] - 1 , 0, length)\n",
    "        ends = np.where(diff_mask[0, :, i].flatten() == -1)[0]\n",
    "        # Iterate over the mask segments and fill them with red color\n",
    "        for i in range(0, len(starts)):\n",
    "            start_idx = starts[i]\n",
    "            end_idx = ends[i]\n",
    "            # plt.fill_between(comp_df.iloc[start_idx:end_idx].index, comp_df.min(), comp_df.max(), color='red', alpha=0.7)\n",
    "            ax.axvspan(start_idx, end_idx, alpha=0.2, color='red')\n",
    "        \n",
    "        # Set column titles\n",
    "        if m == 0:\n",
    "            ax.set_title(column_title)\n",
    "        if i_dataset == 0:\n",
    "            ax.set_ylabel(methods_trad_dict[method_name], size='large')\n",
    "        # Add ax to list of subplots\n",
    "        fig.add_subplot(ax)\n",
    "        sub_channel_axs.append(ax)\n",
    "\n",
    "# Plot figure\n",
    "plt.tight_layout()\n",
    "\"\"\"fig.legend(\n",
    "    sub_channel_axs,     # The line objects\n",
    "    labels=['$x^n$', 'x', \"x'\"],   # The labels for each line\n",
    "    loc='lower center',\n",
    "    # loc='center right',\n",
    "    prop={'size': 14},\n",
    "    ncol=3\n",
    ")\"\"\"\n",
    "# plt.show()\n",
    "# plt.savefig('./experiments/results/examples_cfs.png', dpi=300)\n"
   ]
  },
  {
   "cell_type": "code",
   "execution_count": null,
   "metadata": {},
   "outputs": [],
   "source": []
  },
  {
   "cell_type": "code",
   "execution_count": null,
   "metadata": {},
   "outputs": [],
   "source": []
  },
  {
   "cell_type": "code",
   "execution_count": null,
   "metadata": {},
   "outputs": [],
   "source": [
    "from collections import OrderedDict\n",
    "\n",
    "# Define outer grid\n",
    "fig = plt.figure(figsize=(12, 12))\n",
    "grid_rows = len(dataset_samples)\n",
    "grid_columns = len(methods)\n",
    "outer_grid = gridspec.GridSpec(grid_rows, grid_columns, wspace=0, hspace=0)\n",
    "\n",
    "# Iterate through outer grid plots\n",
    "for i_outer, outer in enumerate(outer_grid):\n",
    "    i_dataset = i_outer // grid_columns\n",
    "    dataset, instance = dataset_samples[i_dataset]\n",
    "    \n",
    "    X_train, y_train, X_test, y_test = data_dict[dataset]\n",
    "    nuns_idx = nuns_idx_dict[dataset]\n",
    "    sol_cfs_methods = sol_cfs_dict[dataset]\n",
    "    sol_cfs_methods = {method: sol_cfs_methods[method][instance]['cf'] for method in methods}\n",
    "\n",
    "    # Calculate auxiliary variables\n",
    "    method_names = list(sol_cfs_methods.keys())\n",
    "    x_cfs = list(sol_cfs_methods.values())\n",
    "    x_orig = X_test[instance]\n",
    "    nun_example = X_train[nuns_idx[instance]]\n",
    "    length = x_orig.shape[0]\n",
    "    n_channels = x_orig.shape[1]\n",
    "\n",
    "    # get method m\n",
    "    m = i_outer % grid_columns\n",
    "    try:\n",
    "        # Get change mask \n",
    "        x_cf = x_cfs[m]\n",
    "        method_name = method_names[m]\n",
    "        found_counterfactual_mask = (x_orig != x_cf.reshape(1, length, n_channels)).astype(int)\n",
    "        diff_mask = np.diff(found_counterfactual_mask, prepend=0, append=0, axis=1)\n",
    "    except IndexError:\n",
    "        break\n",
    "    \n",
    "    # Create inner grid\n",
    "    inner_grid = gridspec.GridSpecFromSubplotSpec(n_channels, 1, wspace=0, hspace=0, subplot_spec=outer)\n",
    "    sub_channel_axs = []\n",
    "    for i in range(n_channels):\n",
    "        ax = plt.Subplot(fig, inner_grid[i])\n",
    "        if include_nun_list[m]:\n",
    "            ax.plot(nun_example.reshape(1, length, n_channels)[:, :, i].flatten(), color='grey')\n",
    "        ax.plot(x_cf.reshape(1, length, n_channels)[:, :, i].flatten(), color='red')\n",
    "        ax.plot(x_orig.reshape(1, length, n_channels)[:, :, i].flatten(), color=\"#332288\")\n",
    "        # ax.axis(\"off\")\n",
    "        ax.set_xticks([])\n",
    "        ax.set_yticks([])\n",
    "        \n",
    "        # Add fill to changes\n",
    "        starts = np.clip( np.where(diff_mask[0, :, i].flatten() == 1)[0] - 1 , 0, length)\n",
    "        ends = np.where(diff_mask[0, :, i].flatten() == -1)[0]\n",
    "        # Iterate over the mask segments and fill them with red color\n",
    "        for i in range(0, len(starts)):\n",
    "            start_idx = starts[i]\n",
    "            end_idx = ends[i]\n",
    "            # plt.fill_between(comp_df.iloc[start_idx:end_idx].index, comp_df.min(), comp_df.max(), color='red', alpha=0.7)\n",
    "            ax.axvspan(start_idx, end_idx, alpha=0.2, color='red')\n",
    "        \n",
    "        # Set column titles\n",
    "        column_title = methods_trad_dict[method_name]\n",
    "        # row_title = f'{dataset} \\n instance {instance}'\n",
    "        row_title = f'{dataset} [{instance}]'\n",
    "        if m == 0:\n",
    "            ax.set_ylabel(row_title, fontsize=16, rotation=90)\n",
    "        if i_dataset == 0:\n",
    "            ax.set_title(column_title, fontsize=18)\n",
    "            \n",
    "        # Add ax to list of subplots\n",
    "        fig.add_subplot(ax)\n",
    "        sub_channel_axs.append(ax)\n",
    "\n",
    "# Plot figure\n",
    "plt.tight_layout()\n",
    "\"\"\"fig.legend(\n",
    "    sub_channel_axs,     # The line objects\n",
    "    labels=['$x^n$', 'x', \"x'\"],   # The labels for each line\n",
    "    # loc='lower center',\n",
    "    loc='center right',\n",
    "    prop={'size': 18},\n",
    "    ncol=1\n",
    ")\"\"\"\n",
    "# plt.show()\n",
    "plt.savefig('./experiments/results/examples_cfs.png', dpi=300)\n"
   ]
  },
  {
   "cell_type": "code",
   "execution_count": null,
   "metadata": {},
   "outputs": [],
   "source": []
  }
 ],
 "metadata": {
  "hide_input": false,
  "kernelspec": {
   "display_name": "Python 3 (ipykernel)",
   "language": "python",
   "name": "python3"
  },
  "language_info": {
   "codemirror_mode": {
    "name": "ipython",
    "version": 3
   },
   "file_extension": ".py",
   "mimetype": "text/x-python",
   "name": "python",
   "nbconvert_exporter": "python",
   "pygments_lexer": "ipython3",
   "version": "3.8.18"
  },
  "toc": {
   "base_numbering": 1,
   "nav_menu": {},
   "number_sections": true,
   "sideBar": true,
   "skip_h1_title": false,
   "title_cell": "Table of Contents",
   "title_sidebar": "Contents",
   "toc_cell": false,
   "toc_position": {},
   "toc_section_display": true,
   "toc_window_display": false
  }
 },
 "nbformat": 4,
 "nbformat_minor": 4
}
